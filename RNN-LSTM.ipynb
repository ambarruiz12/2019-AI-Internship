{
 "cells": [
  {
   "cell_type": "code",
   "execution_count": 219,
   "metadata": {},
   "outputs": [],
   "source": [
    "#Importing Libraries\n",
    "import numpy as np\n",
    "import matplotlib.pyplot as plt\n",
    "import pandas as pd"
   ]
  },
  {
   "cell_type": "code",
   "execution_count": 220,
   "metadata": {},
   "outputs": [],
   "source": [
    "#Importing the Training Set\n",
    "dataset_train = pd.read_csv(\"RNN.csv\")\n",
    "training_set = dataset_train.iloc[:, 1:2].values"
   ]
  },
  {
   "cell_type": "code",
   "execution_count": 221,
   "metadata": {},
   "outputs": [],
   "source": [
    "#Feature Scaling\n",
    "from sklearn.preprocessing import MinMaxScaler\n",
    "sc = MinMaxScaler(feature_range = (0,1))\n",
    "training_set_scaled = sc.fit_transform(training_set)"
   ]
  },
  {
   "cell_type": "code",
   "execution_count": 222,
   "metadata": {},
   "outputs": [],
   "source": [
    "#Create a data structure with 60 timestamps and 1 output\n",
    "X_train = []\n",
    "y_train = []\n",
    "for i in range(60, 1258):\n",
    "    X_train.append(training_set_scaled[i-60:i, 0])\n",
    "    y_train.append(training_set_scaled[i,0])\n",
    "X_train,y_train = np.array(X_train), np.array(y_train)\n",
    "\n",
    "#Reshaping\n",
    "X_train = np.reshape(X_train, (X_train.shape[0], X_train.shape[1], 1))"
   ]
  },
  {
   "cell_type": "code",
   "execution_count": 223,
   "metadata": {},
   "outputs": [],
   "source": [
    "#Importing the Keras Libraries and Packages\n",
    "from keras.models import Sequential\n",
    "from keras.layers import Dense\n",
    "from keras.layers import LSTM\n",
    "from keras.layers import Dropout"
   ]
  },
  {
   "cell_type": "code",
   "execution_count": 224,
   "metadata": {},
   "outputs": [],
   "source": [
    "#Initializing the RNN\n",
    "regressor = Sequential()"
   ]
  },
  {
   "cell_type": "code",
   "execution_count": 225,
   "metadata": {},
   "outputs": [],
   "source": [
    "#Adding the First LSTM Layer and some Dropout Regularization\n",
    "regressor.add(LSTM(units = 50, return_sequences = True, input_shape = (X_train.shape[1], 1)))\n",
    "regressor.add(Dropout(0.2))"
   ]
  },
  {
   "cell_type": "code",
   "execution_count": 226,
   "metadata": {},
   "outputs": [],
   "source": [
    "#Adding the Second LSTM Layer and some Dropout Regularization\n",
    "regressor.add(LSTM(units = 50, return_sequences = True))\n",
    "regressor.add(Dropout(0.2))"
   ]
  },
  {
   "cell_type": "code",
   "execution_count": 227,
   "metadata": {},
   "outputs": [],
   "source": [
    "#Adding Third LSTM Layer and some Dropout Regularization\n",
    "regressor.add(LSTM(units = 50, return_sequences = True))\n",
    "regressor.add(Dropout(0.2))"
   ]
  },
  {
   "cell_type": "code",
   "execution_count": 228,
   "metadata": {},
   "outputs": [],
   "source": [
    "#Adding Fourth LSTM Layer and some Dropout Regularization\n",
    "regressor.add(LSTM(units = 50))\n",
    "regressor.add(Dropout(0.2))"
   ]
  },
  {
   "cell_type": "code",
   "execution_count": 229,
   "metadata": {},
   "outputs": [],
   "source": [
    "#Adding the Output Layer\n",
    "regressor.add(Dense(units = 1))"
   ]
  },
  {
   "cell_type": "code",
   "execution_count": 230,
   "metadata": {},
   "outputs": [],
   "source": [
    "#Compiling the RNN\n",
    "regressor.compile(optimizer = 'adam', loss = 'mean_squared_error')"
   ]
  },
  {
   "cell_type": "code",
   "execution_count": 231,
   "metadata": {},
   "outputs": [
    {
     "name": "stdout",
     "output_type": "stream",
     "text": [
      "Epoch 1/100\n",
      "1198/1198 [==============================] - 80s 66ms/step - loss: 0.0075\n",
      "Epoch 2/100\n",
      "1198/1198 [==============================] - 37s 31ms/step - loss: 0.0014\n",
      "Epoch 3/100\n",
      "1198/1198 [==============================] - 36s 30ms/step - loss: 0.0011\n",
      "Epoch 4/100\n",
      "1198/1198 [==============================] - 37s 31ms/step - loss: 0.0010\n",
      "Epoch 5/100\n",
      "1198/1198 [==============================] - 39s 32ms/step - loss: 8.7575e-04\n",
      "Epoch 6/100\n",
      "1198/1198 [==============================] - 36s 30ms/step - loss: 8.0504e-04\n",
      "Epoch 7/100\n",
      "1198/1198 [==============================] - 37s 31ms/step - loss: 8.0455e-04\n",
      "Epoch 8/100\n",
      "1198/1198 [==============================] - 36s 30ms/step - loss: 6.9239e-04\n",
      "Epoch 9/100\n",
      "1198/1198 [==============================] - 37s 31ms/step - loss: 7.0051e-04\n",
      "Epoch 10/100\n",
      "1198/1198 [==============================] - 37s 31ms/step - loss: 6.7331e-04\n",
      "Epoch 11/100\n",
      "1198/1198 [==============================] - 38s 32ms/step - loss: 7.1847e-04\n",
      "Epoch 12/100\n",
      "1198/1198 [==============================] - 37s 31ms/step - loss: 7.5121e-04\n",
      "Epoch 13/100\n",
      "1198/1198 [==============================] - 37s 30ms/step - loss: 7.2031e-04\n",
      "Epoch 14/100\n",
      "1198/1198 [==============================] - 36s 30ms/step - loss: 7.0254e-04\n",
      "Epoch 15/100\n",
      "1198/1198 [==============================] - 37s 31ms/step - loss: 5.6155e-04\n",
      "Epoch 16/100\n",
      "1198/1198 [==============================] - 37s 31ms/step - loss: 5.6675e-04\n",
      "Epoch 17/100\n",
      "1198/1198 [==============================] - 39s 33ms/step - loss: 5.9349e-04\n",
      "Epoch 18/100\n",
      "1198/1198 [==============================] - 37s 31ms/step - loss: 5.2572e-04\n",
      "Epoch 19/100\n",
      "1198/1198 [==============================] - 41s 34ms/step - loss: 6.1034e-04\n",
      "Epoch 20/100\n",
      "1198/1198 [==============================] - 36s 30ms/step - loss: 5.0092e-04\n",
      "Epoch 21/100\n",
      "1198/1198 [==============================] - 37s 31ms/step - loss: 4.9886e-04\n",
      "Epoch 22/100\n",
      "1198/1198 [==============================] - 36s 30ms/step - loss: 5.4027e-04\n",
      "Epoch 23/100\n",
      "1198/1198 [==============================] - 36s 30ms/step - loss: 5.4005e-04\n",
      "Epoch 24/100\n",
      "1198/1198 [==============================] - 57s 48ms/step - loss: 4.5514e-04\n",
      "Epoch 25/100\n",
      "1198/1198 [==============================] - 51s 42ms/step - loss: 4.8673e-04\n",
      "Epoch 26/100\n",
      "1198/1198 [==============================] - 48s 40ms/step - loss: 4.4701e-04\n",
      "Epoch 27/100\n",
      "1198/1198 [==============================] - 40s 33ms/step - loss: 4.8474e-04\n",
      "Epoch 28/100\n",
      "1198/1198 [==============================] - 37s 31ms/step - loss: 4.3572e-04\n",
      "Epoch 29/100\n",
      "1198/1198 [==============================] - 37s 31ms/step - loss: 4.3038e-04\n",
      "Epoch 30/100\n",
      "1198/1198 [==============================] - 38s 31ms/step - loss: 4.1918e-04\n",
      "Epoch 31/100\n",
      "1198/1198 [==============================] - 44s 37ms/step - loss: 4.3302e-04\n",
      "Epoch 32/100\n",
      "1198/1198 [==============================] - 42s 35ms/step - loss: 4.2531e-04\n",
      "Epoch 33/100\n",
      "1198/1198 [==============================] - 45s 38ms/step - loss: 4.7121e-04\n",
      "Epoch 34/100\n",
      "1198/1198 [==============================] - 37s 31ms/step - loss: 4.0615e-04\n",
      "Epoch 35/100\n",
      "1198/1198 [==============================] - 37s 31ms/step - loss: 4.2842e-04\n",
      "Epoch 36/100\n",
      "1198/1198 [==============================] - 37s 31ms/step - loss: 4.3024e-04\n",
      "Epoch 37/100\n",
      "1198/1198 [==============================] - 37s 31ms/step - loss: 4.1889e-04\n",
      "Epoch 38/100\n",
      "1198/1198 [==============================] - 37s 31ms/step - loss: 3.6737e-04\n",
      "Epoch 39/100\n",
      "1198/1198 [==============================] - 37s 31ms/step - loss: 3.3885e-04\n",
      "Epoch 40/100\n",
      "1198/1198 [==============================] - 36s 30ms/step - loss: 3.6920e-04\n",
      "Epoch 41/100\n",
      "1198/1198 [==============================] - 38s 32ms/step - loss: 3.4689e-04\n",
      "Epoch 42/100\n",
      "1198/1198 [==============================] - 36s 30ms/step - loss: 3.2681e-04\n",
      "Epoch 43/100\n",
      "1198/1198 [==============================] - 37s 31ms/step - loss: 3.1155e-04\n",
      "Epoch 44/100\n",
      "1198/1198 [==============================] - 36s 30ms/step - loss: 3.4215e-04\n",
      "Epoch 45/100\n",
      "1198/1198 [==============================] - 37s 31ms/step - loss: 3.4758e-04\n",
      "Epoch 46/100\n",
      "1198/1198 [==============================] - 37s 31ms/step - loss: 3.0358e-04\n",
      "Epoch 47/100\n",
      "1198/1198 [==============================] - 36s 30ms/step - loss: 3.1637e-04\n",
      "Epoch 48/100\n",
      "1198/1198 [==============================] - 36s 30ms/step - loss: 3.3767e-04\n",
      "Epoch 49/100\n",
      "1198/1198 [==============================] - 37s 31ms/step - loss: 3.2602e-04\n",
      "Epoch 50/100\n",
      "1198/1198 [==============================] - 36s 30ms/step - loss: 2.9252e-04\n",
      "Epoch 51/100\n",
      "1198/1198 [==============================] - 37s 31ms/step - loss: 3.0348e-04\n",
      "Epoch 52/100\n",
      "1198/1198 [==============================] - 36s 30ms/step - loss: 2.7155e-04\n",
      "Epoch 53/100\n",
      "1198/1198 [==============================] - 37s 31ms/step - loss: 2.8581e-04\n",
      "Epoch 54/100\n",
      "1198/1198 [==============================] - 38s 32ms/step - loss: 2.6617e-04\n",
      "Epoch 55/100\n",
      "1198/1198 [==============================] - 36s 30ms/step - loss: 2.6953e-04\n",
      "Epoch 56/100\n",
      "1198/1198 [==============================] - 36s 30ms/step - loss: 2.5998e-04\n",
      "Epoch 57/100\n",
      "1198/1198 [==============================] - 37s 31ms/step - loss: 2.6519e-04\n",
      "Epoch 58/100\n",
      "1198/1198 [==============================] - 37s 31ms/step - loss: 2.4905e-04\n",
      "Epoch 59/100\n",
      "1198/1198 [==============================] - 36s 30ms/step - loss: 2.5079e-04\n",
      "Epoch 60/100\n",
      "1198/1198 [==============================] - 37s 31ms/step - loss: 2.6230e-04\n",
      "Epoch 61/100\n",
      "1198/1198 [==============================] - 36s 30ms/step - loss: 2.4415e-04\n",
      "Epoch 62/100\n",
      "1198/1198 [==============================] - 37s 31ms/step - loss: 2.4696e-04\n",
      "Epoch 63/100\n",
      "1198/1198 [==============================] - 37s 31ms/step - loss: 2.1943e-04\n",
      "Epoch 64/100\n",
      "1198/1198 [==============================] - 37s 31ms/step - loss: 2.3516e-04\n",
      "Epoch 65/100\n",
      "1198/1198 [==============================] - 37s 31ms/step - loss: 2.4142e-04\n",
      "Epoch 66/100\n",
      "1198/1198 [==============================] - 37s 31ms/step - loss: 2.1718e-04\n",
      "Epoch 67/100\n",
      "1198/1198 [==============================] - 37s 31ms/step - loss: 2.1824e-04\n",
      "Epoch 68/100\n",
      "1198/1198 [==============================] - 37s 31ms/step - loss: 2.2488e-04\n",
      "Epoch 69/100\n",
      "1198/1198 [==============================] - 37s 31ms/step - loss: 2.1019e-04\n",
      "Epoch 70/100\n",
      "1198/1198 [==============================] - 37s 31ms/step - loss: 2.1945e-04\n",
      "Epoch 71/100\n",
      "1198/1198 [==============================] - 37s 31ms/step - loss: 2.0800e-04\n",
      "Epoch 72/100\n",
      "1198/1198 [==============================] - 37s 31ms/step - loss: 1.9511e-04\n",
      "Epoch 73/100\n",
      "1198/1198 [==============================] - 37s 31ms/step - loss: 2.2286e-04\n",
      "Epoch 74/100\n",
      "1198/1198 [==============================] - 37s 31ms/step - loss: 2.7063e-04\n",
      "Epoch 75/100\n",
      "1198/1198 [==============================] - 37s 31ms/step - loss: 2.3606e-04\n",
      "Epoch 76/100\n",
      "1198/1198 [==============================] - 37s 31ms/step - loss: 2.2771e-04\n",
      "Epoch 77/100\n",
      "1198/1198 [==============================] - 37s 31ms/step - loss: 1.9361e-04\n",
      "Epoch 78/100\n",
      "1198/1198 [==============================] - 38s 31ms/step - loss: 2.0708e-04\n",
      "Epoch 79/100\n",
      "1198/1198 [==============================] - 37s 31ms/step - loss: 2.1040e-04\n",
      "Epoch 80/100\n",
      "1198/1198 [==============================] - 37s 31ms/step - loss: 2.0590e-04\n",
      "Epoch 81/100\n",
      "1198/1198 [==============================] - 38s 31ms/step - loss: 1.9138e-04\n",
      "Epoch 82/100\n",
      "1198/1198 [==============================] - 37s 31ms/step - loss: 1.9440e-04\n",
      "Epoch 83/100\n",
      "1198/1198 [==============================] - 37s 31ms/step - loss: 2.0195e-04\n",
      "Epoch 84/100\n",
      "1198/1198 [==============================] - 37s 31ms/step - loss: 2.1333e-04\n",
      "Epoch 85/100\n",
      "1198/1198 [==============================] - 37s 31ms/step - loss: 2.4093e-04\n",
      "Epoch 86/100\n",
      "1198/1198 [==============================] - 37s 31ms/step - loss: 1.9382e-04\n",
      "Epoch 87/100\n",
      "1198/1198 [==============================] - 37s 31ms/step - loss: 1.7878e-04\n",
      "Epoch 88/100\n",
      "1198/1198 [==============================] - 37s 31ms/step - loss: 1.8589e-04\n",
      "Epoch 89/100\n",
      "1198/1198 [==============================] - 37s 31ms/step - loss: 1.6596e-04\n",
      "Epoch 90/100\n",
      "1198/1198 [==============================] - 37s 31ms/step - loss: 1.9637e-04\n",
      "Epoch 91/100\n"
     ]
    },
    {
     "name": "stdout",
     "output_type": "stream",
     "text": [
      "1198/1198 [==============================] - 36s 30ms/step - loss: 1.8181e-04\n",
      "Epoch 92/100\n",
      "1198/1198 [==============================] - 36s 30ms/step - loss: 1.7646e-04\n",
      "Epoch 93/100\n",
      "1198/1198 [==============================] - 36s 30ms/step - loss: 1.6405e-04\n",
      "Epoch 94/100\n",
      "1198/1198 [==============================] - 36s 30ms/step - loss: 1.6704e-04\n",
      "Epoch 95/100\n",
      "1198/1198 [==============================] - 36s 30ms/step - loss: 1.8441e-04\n",
      "Epoch 96/100\n",
      "1198/1198 [==============================] - 36s 30ms/step - loss: 1.8237e-04\n",
      "Epoch 97/100\n",
      "1198/1198 [==============================] - 36s 30ms/step - loss: 1.6571e-04\n",
      "Epoch 98/100\n",
      "1198/1198 [==============================] - 34s 28ms/step - loss: 1.5218e-04\n",
      "Epoch 100/100\n",
      "1198/1198 [==============================] - 34s 28ms/step - loss: 1.6514e-04\n"
     ]
    },
    {
     "data": {
      "text/plain": [
       "<keras.callbacks.History at 0x1a226cfad30>"
      ]
     },
     "execution_count": 231,
     "metadata": {},
     "output_type": "execute_result"
    }
   ],
   "source": [
    "#Fitting the RNN into Training Set\n",
    "regressor.fit(X_train,y_train, epochs = 100, batch_size = 32)"
   ]
  },
  {
   "cell_type": "code",
   "execution_count": 232,
   "metadata": {},
   "outputs": [],
   "source": [
    "#Load the Real Stock Price with dates 01/22/2019 - 8/20/2019\n",
    "dataset_test = pd.read_csv(\"Test2.csv\")\n",
    "real_stock_price = dataset_test.iloc[:, 1:2].values"
   ]
  },
  {
   "cell_type": "code",
   "execution_count": 233,
   "metadata": {},
   "outputs": [],
   "source": [
    "#Getting the Predicted Stock Price of 2019 Using 01/22/19 - 08/20/2019\n",
    "dataset_total = pd.concat((dataset_train['Open'], dataset_test['Open']), axis = 0)\n",
    "inputs = dataset_total[len(dataset_total) - len(dataset_test) - 60:].values\n",
    "inputs = inputs.reshape(-1,1)\n",
    "inputs = sc.transform(inputs)\n",
    "X_test = []\n",
    "for i in range(60,200):\n",
    "    X_test.append(inputs[i-60:i, 0])\n",
    "X_test = np.array(X_test)\n",
    "X_test = np.reshape(X_test, (X_test.shape[0], X_test.shape[1], 1))\n",
    "predicted_stock_price = regressor.predict(X_test)\n",
    "predicted_stock_price = sc.inverse_transform(predicted_stock_price)"
   ]
  },
  {
   "cell_type": "code",
   "execution_count": 234,
   "metadata": {},
   "outputs": [
    {
     "data": {
      "image/png": "[encoded data removed]",
      "text/plain": [
       "<Figure size 432x288 with 1 Axes>"
      ]
     },
     "metadata": {
      "needs_background": "light"
     },
     "output_type": "display_data"
    }
   ],
   "source": [
    "#Visualizing the Results\n",
    "plt.plot(real_stock_price, color = 'red', label = 'Real SPY Stock Price')\n",
    "plt.plot(predicted_stock_price, color = 'blue', label = 'Predicted SPY Stock Price')\n",
    "plt.title('SPY Stock Price Prediction')\n",
    "plt.xlabel('Time')\n",
    "plt.ylabel('SPY Stock Price')\n",
    "plt.legend()\n",
    "plt.show()"
   ]
  },
  {
   "cell_type": "code",
   "execution_count": 237,
   "metadata": {},
   "outputs": [
    {
     "data": {
      "text/plain": [
       "0.2502799159568909"
      ]
     },
     "execution_count": 237,
     "metadata": {},
     "output_type": "execute_result"
    }
   ],
   "source": [
    "rms=np.sqrt(np.mean(np.power((X_train),2)))\n",
    "rms\n",
    "\n",
    "# Y_Train RMSE = 0.2514148460253365 or MSE = 0.500999002\n",
    "# X_Train RMSE = 0.2502799159568909 or MSE = 0.5\n",
    "#X_Test RMSE = 0.9518191423835591 or MSE = 0.975704873"
   ]
  },
  {
   "cell_type": "code",
   "execution_count": null,
   "metadata": {},
   "outputs": [],
   "source": []
  }
 ],
 "metadata": {
  "kernelspec": {
   "display_name": "Python 3",
   "language": "python",
   "name": "python3"
  },
  "language_info": {
   "codemirror_mode": {
    "name": "ipython",
    "version": 3
   },
   "file_extension": ".py",
   "mimetype": "text/x-python",
   "name": "python",
   "nbconvert_exporter": "python",
   "pygments_lexer": "ipython3",
   "version": "3.7.3"
  }
 },
 "nbformat": 4,
 "nbformat_minor": 2
}
