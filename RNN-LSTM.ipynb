{
 "cells": [
  {
   "cell_type": "code",
   "execution_count": 1,
   "metadata": {},
   "outputs": [],
   "source": [
    "#Importing Libraries\n",
    "import numpy as np\n",
    "import matplotlib.pyplot as plt\n",
    "import pandas as pd"
   ]
  },
  {
   "cell_type": "code",
   "execution_count": 2,
   "metadata": {},
   "outputs": [],
   "source": [
    "#Importing the Training Set\n",
    "dataset_train = pd.read_csv(\"RNN.csv\")\n",
    "training_set = dataset_train.iloc[:, 1:2].values"
   ]
  },
  {
   "cell_type": "code",
   "execution_count": 3,
   "metadata": {},
   "outputs": [],
   "source": [
    "#Feature Scaling\n",
    "from sklearn.preprocessing import MinMaxScaler\n",
    "sc = MinMaxScaler(feature_range = (0,1))\n",
    "training_set_scaled = sc.fit_transform(training_set)"
   ]
  },
  {
   "cell_type": "code",
   "execution_count": 4,
   "metadata": {},
   "outputs": [],
   "source": [
    "#Create a data structure with 60 timestamps and 1 output\n",
    "X_train = []\n",
    "y_train = []\n",
    "for i in range(60, 1258):\n",
    "    X_train.append(training_set_scaled[i-60:i, 0])\n",
    "    y_train.append(training_set_scaled[i,0])\n",
    "X_train,y_train = np.array(X_train), np.array(y_train)\n",
    "\n",
    "#Reshaping\n",
    "X_train = np.reshape(X_train, (X_train.shape[0], X_train.shape[1], 1))"
   ]
  },
  {
   "cell_type": "code",
   "execution_count": 5,
   "metadata": {},
   "outputs": [
    {
     "name": "stderr",
     "output_type": "stream",
     "text": [
      "Using TensorFlow backend.\n"
     ]
    }
   ],
   "source": [
    "#Importing the Keras Libraries and Packages\n",
    "from keras.models import Sequential\n",
    "from keras.layers import Dense\n",
    "from keras.layers import LSTM\n",
    "from keras.layers import Dropout"
   ]
  },
  {
   "cell_type": "code",
   "execution_count": 6,
   "metadata": {},
   "outputs": [],
   "source": [
    "#Initializing the RNN\n",
    "regressor = Sequential()"
   ]
  },
  {
   "cell_type": "code",
   "execution_count": 7,
   "metadata": {},
   "outputs": [
    {
     "name": "stdout",
     "output_type": "stream",
     "text": [
      "WARNING:tensorflow:From C:\\Users\\Karim Elbahloul\\Anaconda3\\lib\\site-packages\\tensorflow\\python\\framework\\op_def_library.py:263: colocate_with (from tensorflow.python.framework.ops) is deprecated and will be removed in a future version.\n",
      "Instructions for updating:\n",
      "Colocations handled automatically by placer.\n",
      "WARNING:tensorflow:From C:\\Users\\Karim Elbahloul\\Anaconda3\\lib\\site-packages\\keras\\backend\\tensorflow_backend.py:3445: calling dropout (from tensorflow.python.ops.nn_ops) with keep_prob is deprecated and will be removed in a future version.\n",
      "Instructions for updating:\n",
      "Please use `rate` instead of `keep_prob`. Rate should be set to `rate = 1 - keep_prob`.\n"
     ]
    }
   ],
   "source": [
    "#Adding the First LSTM Layer and some Dropout Regularization\n",
    "regressor.add(LSTM(units = 50, return_sequences = True, input_shape = (X_train.shape[1], 1)))\n",
    "regressor.add(Dropout(0.2))"
   ]
  },
  {
   "cell_type": "code",
   "execution_count": 8,
   "metadata": {},
   "outputs": [],
   "source": [
    "#Adding the Second LSTM Layer and some Dropout Regularization\n",
    "regressor.add(LSTM(units = 50, return_sequences = True))\n",
    "regressor.add(Dropout(0.2))"
   ]
  },
  {
   "cell_type": "code",
   "execution_count": 9,
   "metadata": {},
   "outputs": [],
   "source": [
    "#Adding Third LSTM Layer and some Dropout Regularization\n",
    "regressor.add(LSTM(units = 50, return_sequences = True))\n",
    "regressor.add(Dropout(0.2))"
   ]
  },
  {
   "cell_type": "code",
   "execution_count": 10,
   "metadata": {},
   "outputs": [],
   "source": [
    "#Adding Fourth LSTM Layer and some Dropout Regularization\n",
    "regressor.add(LSTM(units = 50))\n",
    "regressor.add(Dropout(0.2))"
   ]
  },
  {
   "cell_type": "code",
   "execution_count": 11,
   "metadata": {},
   "outputs": [],
   "source": [
    "#Adding the Output Layer\n",
    "regressor.add(Dense(units = 1))"
   ]
  },
  {
   "cell_type": "code",
   "execution_count": 13,
   "metadata": {},
   "outputs": [],
   "source": [
    "#Compiling the RNN\n",
    "regressor.compile(optimizer = 'adam', loss = 'mean_squared_error')"
   ]
  },
  {
   "cell_type": "code",
   "execution_count": 14,
   "metadata": {},
   "outputs": [
    {
     "name": "stdout",
     "output_type": "stream",
     "text": [
      "WARNING:tensorflow:From C:\\Users\\Karim Elbahloul\\Anaconda3\\lib\\site-packages\\tensorflow\\python\\ops\\math_ops.py:3066: to_int32 (from tensorflow.python.ops.math_ops) is deprecated and will be removed in a future version.\n",
      "Instructions for updating:\n",
      "Use tf.cast instead.\n",
      "Epoch 1/100\n",
      "1198/1198 [==============================] - 95s 80ms/step - loss: 0.0072\n",
      "Epoch 2/100\n",
      "1198/1198 [==============================] - 49s 41ms/step - loss: 0.0014\n",
      "Epoch 3/100\n",
      "1198/1198 [==============================] - 49s 41ms/step - loss: 9.4779e-04\n",
      "Epoch 4/100\n",
      "1198/1198 [==============================] - 49s 41ms/step - loss: 8.9125e-04\n",
      "Epoch 5/100\n",
      "1198/1198 [==============================] - 53s 44ms/step - loss: 7.6213e-04\n",
      "Epoch 6/100\n",
      "1198/1198 [==============================] - 51s 42ms/step - loss: 9.5026e-04\n",
      "Epoch 7/100\n",
      "1198/1198 [==============================] - 49s 41ms/step - loss: 8.1551e-04\n",
      "Epoch 8/100\n",
      "1198/1198 [==============================] - 49s 41ms/step - loss: 7.3927e-04\n",
      "Epoch 9/100\n",
      "1198/1198 [==============================] - 48s 40ms/step - loss: 7.1243e-04\n",
      "Epoch 10/100\n",
      "1198/1198 [==============================] - 50s 42ms/step - loss: 6.9011e-04\n",
      "Epoch 11/100\n",
      "1198/1198 [==============================] - 49s 41ms/step - loss: 6.8895e-04\n",
      "Epoch 12/100\n",
      "1198/1198 [==============================] - 50s 41ms/step - loss: 7.1251e-04\n",
      "Epoch 13/100\n",
      "1198/1198 [==============================] - 49s 41ms/step - loss: 7.3930e-04\n",
      "Epoch 14/100\n",
      "1198/1198 [==============================] - 49s 41ms/step - loss: 7.2863e-04\n",
      "Epoch 15/100\n",
      "1198/1198 [==============================] - 50s 42ms/step - loss: 6.2374e-04\n",
      "Epoch 16/100\n",
      "1198/1198 [==============================] - 49s 41ms/step - loss: 5.7153e-04\n",
      "Epoch 17/100\n",
      "1198/1198 [==============================] - 50s 42ms/step - loss: 5.9719e-04\n",
      "Epoch 18/100\n",
      "1198/1198 [==============================] - 50s 41ms/step - loss: 5.9671e-04\n",
      "Epoch 19/100\n",
      "1198/1198 [==============================] - 46s 39ms/step - loss: 6.3839e-04\n",
      "Epoch 20/100\n",
      "1198/1198 [==============================] - 43s 36ms/step - loss: 4.7551e-04\n",
      "Epoch 21/100\n",
      "1198/1198 [==============================] - 43s 36ms/step - loss: 5.0878e-04\n",
      "Epoch 22/100\n",
      "1198/1198 [==============================] - 42s 35ms/step - loss: 5.2168e-04\n",
      "Epoch 23/100\n",
      "1198/1198 [==============================] - 42s 35ms/step - loss: 5.1576e-04\n",
      "Epoch 24/100\n",
      "1198/1198 [==============================] - 42s 35ms/step - loss: 4.8847e-04\n",
      "Epoch 25/100\n",
      "1198/1198 [==============================] - 42s 35ms/step - loss: 4.7253e-04\n",
      "Epoch 26/100\n",
      "1198/1198 [==============================] - 42s 35ms/step - loss: 4.5041e-04\n",
      "Epoch 27/100\n",
      "1198/1198 [==============================] - 46s 39ms/step - loss: 4.3116e-04\n",
      "Epoch 28/100\n",
      "1198/1198 [==============================] - 43s 36ms/step - loss: 4.5306e-04\n",
      "Epoch 29/100\n",
      "1198/1198 [==============================] - 42s 35ms/step - loss: 4.4794e-04\n",
      "Epoch 30/100\n",
      "1198/1198 [==============================] - 42s 35ms/step - loss: 5.0555e-04\n",
      "Epoch 31/100\n",
      "1198/1198 [==============================] - 41s 34ms/step - loss: 3.6040e-04\n",
      "Epoch 34/100\n",
      "1198/1198 [==============================] - 41s 34ms/step - loss: 3.8719e-04\n",
      "Epoch 35/100\n",
      "1198/1198 [==============================] - 42s 35ms/step - loss: 4.1206e-04\n",
      "Epoch 36/100\n",
      "1198/1198 [==============================] - 44s 37ms/step - loss: 3.9967e-04\n",
      "Epoch 37/100\n",
      "1198/1198 [==============================] - 43s 36ms/step - loss: 3.3639e-04\n",
      "Epoch 38/100\n",
      "1198/1198 [==============================] - 42s 35ms/step - loss: 3.4107e-04\n",
      "Epoch 39/100\n",
      "1198/1198 [==============================] - 42s 35ms/step - loss: 3.6445e-04\n",
      "Epoch 40/100\n",
      "1198/1198 [==============================] - 47s 39ms/step - loss: 3.1376e-04\n",
      "Epoch 41/100\n",
      "1198/1198 [==============================] - 51s 43ms/step - loss: 3.0767e-04\n",
      "Epoch 42/100\n",
      "1198/1198 [==============================] - 52s 43ms/step - loss: 3.0884e-04\n",
      "Epoch 43/100\n",
      "1198/1198 [==============================] - 53s 45ms/step - loss: 3.3629e-04\n",
      "Epoch 44/100\n",
      "1198/1198 [==============================] - 54s 45ms/step - loss: 2.9546e-04\n",
      "Epoch 45/100\n",
      "1198/1198 [==============================] - 51s 43ms/step - loss: 3.0146e-04\n",
      "Epoch 46/100\n",
      "1198/1198 [==============================] - 50s 42ms/step - loss: 3.0525e-04\n",
      "Epoch 47/100\n",
      "1198/1198 [==============================] - 53s 44ms/step - loss: 3.3106e-04\n",
      "Epoch 48/100\n",
      "1198/1198 [==============================] - 43s 36ms/step - loss: 2.7394e-04\n",
      "Epoch 49/100\n",
      "1198/1198 [==============================] - 43s 35ms/step - loss: 2.6666e-04\n",
      "Epoch 50/100\n",
      "1198/1198 [==============================] - 43s 36ms/step - loss: 2.6753e-04\n",
      "Epoch 51/100\n",
      "1198/1198 [==============================] - 42s 35ms/step - loss: 2.5117e-04\n",
      "Epoch 52/100\n",
      "1198/1198 [==============================] - 41s 34ms/step - loss: 2.6168e-04\n",
      "Epoch 55/100\n",
      "1198/1198 [==============================] - 41s 34ms/step - loss: 2.5126e-04\n",
      "Epoch 56/100\n",
      "1198/1198 [==============================] - 41s 34ms/step - loss: 2.4787e-04\n",
      "Epoch 57/100\n",
      "1198/1198 [==============================] - 42s 35ms/step - loss: 2.6751e-04\n",
      "Epoch 58/100\n",
      "1198/1198 [==============================] - 41s 34ms/step - loss: 2.4677e-04\n",
      "Epoch 59/100\n",
      "1198/1198 [==============================] - 41s 34ms/step - loss: 2.5045e-04\n",
      "Epoch 60/100\n",
      "1198/1198 [==============================] - 41s 34ms/step - loss: 2.4120e-04\n",
      "Epoch 61/100\n",
      "1198/1198 [==============================] - 41s 34ms/step - loss: 2.3322e-04\n",
      "Epoch 62/100\n",
      "1198/1198 [==============================] - 41s 34ms/step - loss: 2.2386e-04\n",
      "Epoch 63/100\n",
      "1198/1198 [==============================] - 47s 40ms/step - loss: 2.1726e-04\n",
      "Epoch 64/100\n",
      "1198/1198 [==============================] - 60s 50ms/step - loss: 2.1560e-04\n",
      "Epoch 65/100\n",
      "1198/1198 [==============================] - 47s 39ms/step - loss: 2.4064e-04\n",
      "Epoch 66/100\n",
      "1198/1198 [==============================] - 49s 41ms/step - loss: 2.3542e-04\n",
      "Epoch 67/100\n",
      "1198/1198 [==============================] - 43s 36ms/step - loss: 2.0562e-04\n",
      "Epoch 68/100\n",
      "1198/1198 [==============================] - 44s 37ms/step - loss: 2.1828e-04\n",
      "Epoch 69/100\n",
      "1198/1198 [==============================] - 44s 37ms/step - loss: 2.0253e-04\n",
      "Epoch 70/100\n",
      "1198/1198 [==============================] - 58s 49ms/step - loss: 1.8680e-04\n",
      "Epoch 71/100\n",
      "1198/1198 [==============================] - 57s 47ms/step - loss: 1.9714e-04\n",
      "Epoch 72/100\n",
      "1198/1198 [==============================] - 54s 45ms/step - loss: 1.8078e-04\n",
      "Epoch 73/100\n",
      "1198/1198 [==============================] - 49s 41ms/step - loss: 2.0821e-04\n",
      "Epoch 74/100\n",
      "1198/1198 [==============================] - 43s 36ms/step - loss: 1.8210e-04\n",
      "Epoch 75/100\n",
      "1198/1198 [==============================] - 43s 36ms/step - loss: 1.9455e-04\n",
      "Epoch 76/100\n",
      "1198/1198 [==============================] - 42s 35ms/step - loss: 1.8351e-04\n",
      "Epoch 77/100\n",
      "1198/1198 [==============================] - 42s 35ms/step - loss: 1.7004e-04\n",
      "Epoch 78/100\n",
      "1198/1198 [==============================] - 42s 35ms/step - loss: 1.8203e-04\n",
      "Epoch 79/100\n",
      "1198/1198 [==============================] - 42s 35ms/step - loss: 1.8540e-04\n",
      "Epoch 80/100\n",
      "1198/1198 [==============================] - 42s 35ms/step - loss: 2.0059e-04\n",
      "Epoch 81/100\n",
      "1198/1198 [==============================] - 42s 35ms/step - loss: 1.9838e-04\n",
      "Epoch 82/100\n",
      "1198/1198 [==============================] - 41s 35ms/step - loss: 1.8381e-04\n",
      "Epoch 83/100\n",
      "1198/1198 [==============================] - 42s 35ms/step - loss: 1.7403e-04\n",
      "Epoch 84/100\n",
      "1198/1198 [==============================] - 42s 35ms/step - loss: 1.7611e-04\n",
      "Epoch 85/100\n",
      "1198/1198 [==============================] - 42s 35ms/step - loss: 1.7386e-04\n",
      "Epoch 86/100\n",
      "1198/1198 [==============================] - 42s 35ms/step - loss: 1.5587e-04\n",
      "Epoch 87/100\n",
      "1198/1198 [==============================] - 43s 36ms/step - loss: 1.6378e-04\n",
      "Epoch 88/100\n",
      "1198/1198 [==============================] - 43s 36ms/step - loss: 1.6041e-04\n",
      "Epoch 89/100\n",
      "1198/1198 [==============================] - 42s 35ms/step - loss: 1.5144e-04\n",
      "Epoch 90/100\n",
      "1198/1198 [==============================] - 43s 36ms/step - loss: 1.7042e-04\n",
      "Epoch 91/100\n",
      "1198/1198 [==============================] - 42s 35ms/step - loss: 1.8090e-04\n",
      "Epoch 92/100\n"
     ]
    },
    {
     "name": "stdout",
     "output_type": "stream",
     "text": [
      "1198/1198 [==============================] - 41s 34ms/step - loss: 1.6047e-04\n",
      "Epoch 93/100\n",
      "1198/1198 [==============================] - 42s 35ms/step - loss: 1.5488e-04\n",
      "Epoch 94/100\n",
      "1198/1198 [==============================] - 41s 34ms/step - loss: 1.7207e-04\n",
      "Epoch 95/100\n",
      "1198/1198 [==============================] - 41s 34ms/step - loss: 1.6074e-04\n",
      "Epoch 96/100\n",
      "1198/1198 [==============================] - 42s 35ms/step - loss: 1.7351e-04\n",
      "Epoch 97/100\n",
      "1198/1198 [==============================] - 41s 34ms/step - loss: 1.6240e-04\n",
      "Epoch 98/100\n",
      "1198/1198 [==============================] - 44s 37ms/step - loss: 1.5216e-04\n",
      "Epoch 99/100\n",
      "1198/1198 [==============================] - 41s 34ms/step - loss: 1.5281e-04\n",
      "Epoch 100/100\n",
      "1198/1198 [==============================] - 41s 34ms/step - loss: 1.5361e-04\n"
     ]
    },
    {
     "data": {
      "text/plain": [
       "<keras.callbacks.History at 0x16cc2353470>"
      ]
     },
     "execution_count": 14,
     "metadata": {},
     "output_type": "execute_result"
    }
   ],
   "source": [
    "#Fitting the RNN into Training Set\n",
    "regressor.fit(X_train,y_train, epochs = 100, batch_size = 32)"
   ]
  },
  {
   "cell_type": "code",
   "execution_count": 16,
   "metadata": {},
   "outputs": [],
   "source": [
    "#Load the Real Stock Price of 2019\n",
    "dataset_test = pd.read_csv(\"RNN_Test.csv\")\n",
    "real_stock_price = dataset_test.iloc[:, 1:2].values"
   ]
  },
  {
   "cell_type": "code",
   "execution_count": 19,
   "metadata": {},
   "outputs": [],
   "source": [
    "#Getting the Predicted Stock Price of 2019\n",
    "dataset_total = pd.concat((dataset_train['Open'], dataset_test['Open']), axis = 0)\n",
    "inputs = dataset_total[len(dataset_total) - len(dataset_test) - 60:].values\n",
    "inputs = inputs.reshape(-1,1)\n",
    "inputs = sc.transform(inputs)\n",
    "X_test = []\n",
    "for i in range(60,80):\n",
    "    X_test.append(inputs[i-60:i, 0])\n",
    "X_test = np.array(X_test)\n",
    "X_test = np.reshape(X_test, (X_test.shape[0], X_test.shape[1], 1))\n",
    "predicted_stock_price = regressor.predict(X_test)\n",
    "predicted_stock_price = sc.inverse_transform(predicted_stock_price)"
   ]
  },
  {
   "cell_type": "code",
   "execution_count": 20,
   "metadata": {},
   "outputs": [
    {
     "data": {
      "image/png": "[encoded data removed]",
      "text/plain": [
       "<Figure size 432x288 with 1 Axes>"
      ]
     },
     "metadata": {
      "needs_background": "light"
     },
     "output_type": "display_data"
    }
   ],
   "source": [
    "#Visualizing the Results\n",
    "plt.plot(real_stock_price, color = 'red', label = 'Real SPY Stock Price')\n",
    "plt.plot(predicted_stock_price, color = 'blue', label = 'Predicted SPY Stock Price')\n",
    "plt.title('SPY Stock Price Prediction')\n",
    "plt.xlabel('Time')\n",
    "plt.ylabel('SPY Stock Price')\n",
    "plt.legend()\n",
    "plt.show()"
   ]
  },
  {
   "cell_type": "code",
   "execution_count": null,
   "metadata": {},
   "outputs": [],
   "source": []
  }
 ],
 "metadata": {
  "kernelspec": {
   "display_name": "Python 3",
   "language": "python",
   "name": "python3"
  },
  "language_info": {
   "codemirror_mode": {
    "name": "ipython",
    "version": 3
   },
   "file_extension": ".py",
   "mimetype": "text/x-python",
   "name": "python",
   "nbconvert_exporter": "python",
   "pygments_lexer": "ipython3",
   "version": "3.7.3"
  }
 },
 "nbformat": 4,
 "nbformat_minor": 2
}
