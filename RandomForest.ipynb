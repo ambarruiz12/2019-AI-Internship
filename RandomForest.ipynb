{
 "cells": [
  {
   "cell_type": "code",
   "execution_count": 48,
   "metadata": {},
   "outputs": [
    {
     "data": {
      "text/plain": [
       "'/Users/ambarruiz/Documents'"
      ]
     },
     "execution_count": 48,
     "metadata": {},
     "output_type": "execute_result"
    }
   ],
   "source": [
    "import os \n",
    "path =\"/Users/ambarruiz/Documents/\"\n",
    "os.chdir(path)\n",
    "os.getcwd()"
   ]
  },
  {
   "cell_type": "code",
   "execution_count": 49,
   "metadata": {},
   "outputs": [],
   "source": [
    "import numpy as np\n",
    "import pandas as pd\n",
    "from sklearn.ensemble import RandomForestClassifier"
   ]
  },
  {
   "cell_type": "code",
   "execution_count": 50,
   "metadata": {},
   "outputs": [
    {
     "name": "stdout",
     "output_type": "stream",
     "text": [
      "         Date         Open         High          Low        Close  \\\n",
      "0  2017-06-01  2415.649902  2430.060059  2413.540039  2430.060059   \n",
      "1  2017-06-02  2431.280029  2440.229980  2427.709961  2439.070068   \n",
      "2  2017-06-05  2437.830078  2439.550049  2434.320068  2436.100098   \n",
      "3  2017-06-06  2431.919922  2436.209961  2428.120117  2429.330078   \n",
      "4  2017-06-07  2432.030029  2435.280029  2424.750000  2433.139893   \n",
      "\n",
      "     Adj Close      Volume  \n",
      "0  2430.060059  3857140000  \n",
      "1  2439.070068  3461680000  \n",
      "2  2436.100098  2912600000  \n",
      "3  2429.330078  3357840000  \n",
      "4  2433.139893  3572300000  \n"
     ]
    }
   ],
   "source": [
    "data = pd.read_csv('Nstocks.csv')\n",
    "print(data.head())"
   ]
  },
  {
   "cell_type": "code",
   "execution_count": 51,
   "metadata": {},
   "outputs": [],
   "source": [
    "# Features construction \n",
    "data['Open-Close'] = (data.Open - data.Close)/data.Open\n",
    "data['High-Low'] = (data.High - data.Low)/data.Low\n",
    "data['percent_change'] = data['Adj Close'].pct_change()\n",
    "data['std_5'] = data['percent_change'].rolling(5).std()\n",
    "data['ret_5'] = data['percent_change'].rolling(5).mean()\n",
    "data.dropna(inplace=True)\n",
    "# X is the input variable\n",
    "\n",
    "X = data[['Open-Close', 'High-Low', 'std_5', 'ret_5']]\n",
    "\n",
    "\n",
    "# Y is the target or output variable\n",
    "\n",
    "y = np.where(data['Adj Close'].shift(-1) > data['Adj Close'], 1, -1)"
   ]
  },
  {
   "cell_type": "code",
   "execution_count": 52,
   "metadata": {},
   "outputs": [
    {
     "data": {
      "text/plain": [
       "185"
      ]
     },
     "execution_count": 52,
     "metadata": {},
     "output_type": "execute_result"
    }
   ],
   "source": [
    "# Total dataset length\n",
    "dataset_length = data.shape[0]\n",
    "# Training dataset length\n",
    "\n",
    "split = int(dataset_length * 0.75)\n",
    "\n",
    "split"
   ]
  },
  {
   "cell_type": "code",
   "execution_count": 53,
   "metadata": {},
   "outputs": [
    {
     "name": "stdout",
     "output_type": "stream",
     "text": [
      "(185, 4) (62, 4)\n",
      "(185,) (62,)\n"
     ]
    }
   ],
   "source": [
    "# Splitiing the X and y into train and test datasets\n",
    "X_train, X_test = X[:split], X[split:]\n",
    "y_train, y_test = y[:split], y[split:]\n",
    "# Print the size of the train and test dataset\n",
    "\n",
    "print(X_train.shape, X_test.shape)\n",
    "\n",
    "print(y_train.shape, y_test.shape)"
   ]
  },
  {
   "cell_type": "code",
   "execution_count": 54,
   "metadata": {},
   "outputs": [],
   "source": [
    "clf = RandomForestClassifier(random_state=5)"
   ]
  },
  {
   "cell_type": "code",
   "execution_count": 55,
   "metadata": {},
   "outputs": [
    {
     "name": "stderr",
     "output_type": "stream",
     "text": [
      "/anaconda3/lib/python3.7/site-packages/sklearn/ensemble/forest.py:246: FutureWarning: The default value of n_estimators will change from 10 in version 0.20 to 100 in 0.22.\n",
      "  \"10 in version 0.20 to 100 in 0.22.\", FutureWarning)\n"
     ]
    }
   ],
   "source": [
    "# Create the model on train dataset\n",
    "model = clf.fit(X_train, y_train)"
   ]
  },
  {
   "cell_type": "code",
   "execution_count": 56,
   "metadata": {},
   "outputs": [
    {
     "name": "stdout",
     "output_type": "stream",
     "text": [
      "Correct Prediction (%):  46.774193548387096\n"
     ]
    }
   ],
   "source": [
    "from sklearn.metrics import accuracy_score\n",
    "print('Correct Prediction (%): ', accuracy_score(y_test, model.predict(X_test), normalize=True)*100.0)"
   ]
  },
  {
   "cell_type": "code",
   "execution_count": 57,
   "metadata": {},
   "outputs": [
    {
     "name": "stdout",
     "output_type": "stream",
     "text": [
      "              precision    recall  f1-score   support\n",
      "\n",
      "          -1       0.46      0.39      0.42        31\n",
      "           1       0.47      0.55      0.51        31\n",
      "\n",
      "   micro avg       0.47      0.47      0.47        62\n",
      "   macro avg       0.47      0.47      0.46        62\n",
      "weighted avg       0.47      0.47      0.46        62\n",
      "\n"
     ]
    }
   ],
   "source": [
    "# Run the code to view the classification report metrics\n",
    "from sklearn.metrics import classification_report\n",
    "report = classification_report(y_test, model.predict(X_test))\n",
    "print(report)"
   ]
  },
  {
   "cell_type": "code",
   "execution_count": 58,
   "metadata": {},
   "outputs": [],
   "source": [
    "data['strategy_returns'] = data.percent_change.shift(-1) * model.predict(X)"
   ]
  },
  {
   "cell_type": "code",
   "execution_count": 59,
   "metadata": {},
   "outputs": [
    {
     "data": {
      "image/png": "[encoded data removed]",
      "text/plain": [
       "<Figure size 432x288 with 1 Axes>"
      ]
     },
     "metadata": {
      "needs_background": "light"
     },
     "output_type": "display_data"
    }
   ],
   "source": [
    "%matplotlib inline\n",
    "import matplotlib.pyplot as plt\n",
    "data.strategy_returns[split:].hist()\n",
    "plt.xlabel('Strategy returns (%)')\n",
    "plt.show()\n",
    "\n",
    "\n",
    "#Output variable: If tomorrow’s close price is greater than today's close price then \n",
    "#the output variable is set to 1 and otherwise set to -1. 1 indicates to buy the stock\n",
    "#and -1 indicates to sell the stock"
   ]
  },
  {
   "cell_type": "code",
   "execution_count": 60,
   "metadata": {},
   "outputs": [
    {
     "data": {
      "image/png": "[encoded data removed]",
      "text/plain": [
       "<Figure size 432x288 with 1 Axes>"
      ]
     },
     "metadata": {
      "needs_background": "light"
     },
     "output_type": "display_data"
    }
   ],
   "source": [
    "(data.strategy_returns[split:]+1).cumprod().plot()\n",
    "plt.ylabel('Strategy returns (%)')\n",
    "plt.show()\n",
    "\n",
    "##The output displays the strategy returns and daily returns according to the code for \n",
    "#the Random Forest Classifier."
   ]
  },
  {
   "cell_type": "code",
   "execution_count": null,
   "metadata": {},
   "outputs": [],
   "source": []
  }
 ],
 "metadata": {
  "kernelspec": {
   "display_name": "Python 3",
   "language": "python",
   "name": "python3"
  },
  "language_info": {
   "codemirror_mode": {
    "name": "ipython",
    "version": 3
   },
   "file_extension": ".py",
   "mimetype": "text/x-python",
   "name": "python",
   "nbconvert_exporter": "python",
   "pygments_lexer": "ipython3",
   "version": "3.7.3"
  }
 },
 "nbformat": 4,
 "nbformat_minor": 2
}
