{
 "cells": [
  {
   "cell_type": "code",
   "execution_count": 5,
   "metadata": {},
   "outputs": [],
   "source": [
    "# For division\n",
    "from __future__ import division\n",
    "\n",
    "#Importing Libraries\n",
    "import pandas as pd\n",
    "from pandas import Series,DataFrame\n",
    "import numpy as np\n",
    "\n",
    "#Data Visualization\n",
    "import matplotlib.pyplot as plt\n",
    "\n",
    "%matplotlib inline\n",
    "\n",
    "#For reading stock data from yahoo\n",
    "import pandas_datareader as web\n",
    "\n",
    "#For time stamps\n",
    "from datetime import datetime"
   ]
  },
  {
   "cell_type": "code",
   "execution_count": 6,
   "metadata": {},
   "outputs": [],
   "source": [
    "#Setting Up Ticker Symbol Used For Prediction Analysis\n",
    "ticker = ['SPY']\n",
    "\n",
    "#To Set up End and Start times for data grab\n",
    "end = datetime.now()\n",
    "start = datetime(end.year - 21,end.month,end.day)\n",
    "\n",
    "\n",
    "#Creating loop for grabing Yahoo Finance data and setting as a DataFrame\n",
    "\n",
    "for stock in ticker:   \n",
    "    \n",
    "    #To set DataFrame as the Stock Ticker\n",
    "    \n",
    "    globals()[stock] = web.DataReader(stock,'yahoo',start,end)['Close']"
   ]
  },
  {
   "cell_type": "code",
   "execution_count": 7,
   "metadata": {},
   "outputs": [
    {
     "data": {
      "text/plain": [
       "Date\n",
       "1998-08-28    103.37500\n",
       "1998-08-31     96.00000\n",
       "1998-09-01    100.06250\n",
       "1998-09-02     99.34375\n",
       "1998-09-03     98.56250\n",
       "Name: Close, dtype: float64"
      ]
     },
     "execution_count": 7,
     "metadata": {},
     "output_type": "execute_result"
    }
   ],
   "source": [
    "SPY.head()"
   ]
  },
  {
   "cell_type": "code",
   "execution_count": 8,
   "metadata": {},
   "outputs": [
    {
     "data": {
      "text/plain": [
       "Date\n",
       "2019-08-22    292.359985\n",
       "2019-08-23    284.850006\n",
       "2019-08-26    288.000000\n",
       "2019-08-27    286.869995\n",
       "2019-08-28    288.890015\n",
       "Name: Close, dtype: float64"
      ]
     },
     "execution_count": 8,
     "metadata": {},
     "output_type": "execute_result"
    }
   ],
   "source": [
    "SPY.tail()"
   ]
  },
  {
   "cell_type": "code",
   "execution_count": 9,
   "metadata": {},
   "outputs": [
    {
     "data": {
      "text/plain": [
       "(5284,)"
      ]
     },
     "execution_count": 9,
     "metadata": {},
     "output_type": "execute_result"
    }
   ],
   "source": [
    "SPY.shape"
   ]
  },
  {
   "cell_type": "code",
   "execution_count": 33,
   "metadata": {},
   "outputs": [
    {
     "data": {
      "text/plain": [
       "Text(0, 0.5, 'Price')"
      ]
     },
     "execution_count": 33,
     "metadata": {},
     "output_type": "execute_result"
    },
    {
     "data": {
      "image/png": "[encoded data removed]",
      "text/plain": [
       "<Figure size 720x432 with 1 Axes>"
      ]
     },
     "metadata": {
      "needs_background": "light"
     },
     "output_type": "display_data"
    }
   ],
   "source": [
    "SPY.plot(figsize=(10,6),legend=True, linestyle='--', marker='o')\n",
    "plt.ylabel(\"Price\")"
   ]
  },
  {
   "cell_type": "code",
   "execution_count": 11,
   "metadata": {},
   "outputs": [
    {
     "data": {
      "text/plain": [
       "count    5284.000000\n",
       "mean      153.249648\n",
       "std        54.246193\n",
       "min        68.110001\n",
       "25%       115.570000\n",
       "50%       134.051247\n",
       "75%       188.165001\n",
       "max       302.010010\n",
       "Name: Close, dtype: float64"
      ]
     },
     "execution_count": 11,
     "metadata": {},
     "output_type": "execute_result"
    }
   ],
   "source": [
    "SPY.describe()"
   ]
  },
  {
   "cell_type": "code",
   "execution_count": 12,
   "metadata": {},
   "outputs": [
    {
     "data": {
      "text/plain": [
       "Date\n",
       "1998-08-28    103.37500\n",
       "1998-08-31     96.00000\n",
       "1998-09-01    100.06250\n",
       "1998-09-02     99.34375\n",
       "1998-09-03     98.56250\n",
       "Name: Close, dtype: float64"
      ]
     },
     "execution_count": 12,
     "metadata": {},
     "output_type": "execute_result"
    }
   ],
   "source": [
    "df = SPY\n",
    "df.head()"
   ]
  },
  {
   "cell_type": "code",
   "execution_count": 13,
   "metadata": {},
   "outputs": [
    {
     "data": {
      "text/plain": [
       "count    5284.000000\n",
       "mean      153.249648\n",
       "std        54.246193\n",
       "min        68.110001\n",
       "25%       115.570000\n",
       "50%       134.051247\n",
       "75%       188.165001\n",
       "max       302.010010\n",
       "Name: Close, dtype: float64"
      ]
     },
     "execution_count": 13,
     "metadata": {},
     "output_type": "execute_result"
    }
   ],
   "source": [
    "df.describe()"
   ]
  },
  {
   "cell_type": "code",
   "execution_count": 14,
   "metadata": {},
   "outputs": [],
   "source": [
    "df = df.reset_index()"
   ]
  },
  {
   "cell_type": "code",
   "execution_count": 15,
   "metadata": {},
   "outputs": [
    {
     "data": {
      "text/html": [
       "<div>\n",
       "<style scoped>\n",
       "    .dataframe tbody tr th:only-of-type {\n",
       "        vertical-align: middle;\n",
       "    }\n",
       "\n",
       "    .dataframe tbody tr th {\n",
       "        vertical-align: top;\n",
       "    }\n",
       "\n",
       "    .dataframe thead th {\n",
       "        text-align: right;\n",
       "    }\n",
       "</style>\n",
       "<table border=\"1\" class=\"dataframe\">\n",
       "  <thead>\n",
       "    <tr style=\"text-align: right;\">\n",
       "      <th></th>\n",
       "      <th>Date</th>\n",
       "      <th>Close</th>\n",
       "    </tr>\n",
       "  </thead>\n",
       "  <tbody>\n",
       "    <tr>\n",
       "      <th>0</th>\n",
       "      <td>1998-08-28</td>\n",
       "      <td>103.37500</td>\n",
       "    </tr>\n",
       "    <tr>\n",
       "      <th>1</th>\n",
       "      <td>1998-08-31</td>\n",
       "      <td>96.00000</td>\n",
       "    </tr>\n",
       "    <tr>\n",
       "      <th>2</th>\n",
       "      <td>1998-09-01</td>\n",
       "      <td>100.06250</td>\n",
       "    </tr>\n",
       "    <tr>\n",
       "      <th>3</th>\n",
       "      <td>1998-09-02</td>\n",
       "      <td>99.34375</td>\n",
       "    </tr>\n",
       "    <tr>\n",
       "      <th>4</th>\n",
       "      <td>1998-09-03</td>\n",
       "      <td>98.56250</td>\n",
       "    </tr>\n",
       "  </tbody>\n",
       "</table>\n",
       "</div>"
      ],
      "text/plain": [
       "        Date      Close\n",
       "0 1998-08-28  103.37500\n",
       "1 1998-08-31   96.00000\n",
       "2 1998-09-01  100.06250\n",
       "3 1998-09-02   99.34375\n",
       "4 1998-09-03   98.56250"
      ]
     },
     "execution_count": 15,
     "metadata": {},
     "output_type": "execute_result"
    }
   ],
   "source": [
    "df.head()"
   ]
  },
  {
   "cell_type": "code",
   "execution_count": 16,
   "metadata": {},
   "outputs": [],
   "source": [
    "df[['ds','y']] = df[['Date' ,'Close']]"
   ]
  },
  {
   "cell_type": "code",
   "execution_count": 17,
   "metadata": {},
   "outputs": [
    {
     "data": {
      "text/html": [
       "<div>\n",
       "<style scoped>\n",
       "    .dataframe tbody tr th:only-of-type {\n",
       "        vertical-align: middle;\n",
       "    }\n",
       "\n",
       "    .dataframe tbody tr th {\n",
       "        vertical-align: top;\n",
       "    }\n",
       "\n",
       "    .dataframe thead th {\n",
       "        text-align: right;\n",
       "    }\n",
       "</style>\n",
       "<table border=\"1\" class=\"dataframe\">\n",
       "  <thead>\n",
       "    <tr style=\"text-align: right;\">\n",
       "      <th></th>\n",
       "      <th>ds</th>\n",
       "      <th>y</th>\n",
       "    </tr>\n",
       "  </thead>\n",
       "  <tbody>\n",
       "    <tr>\n",
       "      <th>0</th>\n",
       "      <td>1998-08-28</td>\n",
       "      <td>103.37500</td>\n",
       "    </tr>\n",
       "    <tr>\n",
       "      <th>1</th>\n",
       "      <td>1998-08-31</td>\n",
       "      <td>96.00000</td>\n",
       "    </tr>\n",
       "    <tr>\n",
       "      <th>2</th>\n",
       "      <td>1998-09-01</td>\n",
       "      <td>100.06250</td>\n",
       "    </tr>\n",
       "    <tr>\n",
       "      <th>3</th>\n",
       "      <td>1998-09-02</td>\n",
       "      <td>99.34375</td>\n",
       "    </tr>\n",
       "    <tr>\n",
       "      <th>4</th>\n",
       "      <td>1998-09-03</td>\n",
       "      <td>98.56250</td>\n",
       "    </tr>\n",
       "  </tbody>\n",
       "</table>\n",
       "</div>"
      ],
      "text/plain": [
       "          ds          y\n",
       "0 1998-08-28  103.37500\n",
       "1 1998-08-31   96.00000\n",
       "2 1998-09-01  100.06250\n",
       "3 1998-09-02   99.34375\n",
       "4 1998-09-03   98.56250"
      ]
     },
     "execution_count": 17,
     "metadata": {},
     "output_type": "execute_result"
    }
   ],
   "source": [
    "df = df[['ds','y']]\n",
    "df.head()"
   ]
  },
  {
   "cell_type": "code",
   "execution_count": 18,
   "metadata": {},
   "outputs": [],
   "source": [
    "import fbprophet"
   ]
  },
  {
   "cell_type": "code",
   "execution_count": 19,
   "metadata": {},
   "outputs": [],
   "source": [
    "m = fbprophet.Prophet()"
   ]
  },
  {
   "cell_type": "code",
   "execution_count": 20,
   "metadata": {},
   "outputs": [
    {
     "name": "stderr",
     "output_type": "stream",
     "text": [
      "INFO:fbprophet:Disabling daily seasonality. Run prophet with daily_seasonality=True to override this.\n",
      "C:\\Users\\Karim Elbahloul\\Anaconda3\\lib\\site-packages\\pystan\\misc.py:399: FutureWarning: Conversion of the second argument of issubdtype from `float` to `np.floating` is deprecated. In future, it will be treated as `np.float64 == np.dtype(float).type`.\n",
      "  elif np.issubdtype(np.asarray(v).dtype, float):\n"
     ]
    },
    {
     "data": {
      "text/plain": [
       "<fbprophet.forecaster.Prophet at 0x26f4430f240>"
      ]
     },
     "execution_count": 20,
     "metadata": {},
     "output_type": "execute_result"
    }
   ],
   "source": [
    "m.fit(df)"
   ]
  },
  {
   "cell_type": "code",
   "execution_count": 21,
   "metadata": {},
   "outputs": [
    {
     "data": {
      "text/html": [
       "<div>\n",
       "<style scoped>\n",
       "    .dataframe tbody tr th:only-of-type {\n",
       "        vertical-align: middle;\n",
       "    }\n",
       "\n",
       "    .dataframe tbody tr th {\n",
       "        vertical-align: top;\n",
       "    }\n",
       "\n",
       "    .dataframe thead th {\n",
       "        text-align: right;\n",
       "    }\n",
       "</style>\n",
       "<table border=\"1\" class=\"dataframe\">\n",
       "  <thead>\n",
       "    <tr style=\"text-align: right;\">\n",
       "      <th></th>\n",
       "      <th>ds</th>\n",
       "    </tr>\n",
       "  </thead>\n",
       "  <tbody>\n",
       "    <tr>\n",
       "      <th>5644</th>\n",
       "      <td>2020-08-23</td>\n",
       "    </tr>\n",
       "    <tr>\n",
       "      <th>5645</th>\n",
       "      <td>2020-08-24</td>\n",
       "    </tr>\n",
       "    <tr>\n",
       "      <th>5646</th>\n",
       "      <td>2020-08-25</td>\n",
       "    </tr>\n",
       "    <tr>\n",
       "      <th>5647</th>\n",
       "      <td>2020-08-26</td>\n",
       "    </tr>\n",
       "    <tr>\n",
       "      <th>5648</th>\n",
       "      <td>2020-08-27</td>\n",
       "    </tr>\n",
       "  </tbody>\n",
       "</table>\n",
       "</div>"
      ],
      "text/plain": [
       "             ds\n",
       "5644 2020-08-23\n",
       "5645 2020-08-24\n",
       "5646 2020-08-25\n",
       "5647 2020-08-26\n",
       "5648 2020-08-27"
      ]
     },
     "execution_count": 21,
     "metadata": {},
     "output_type": "execute_result"
    }
   ],
   "source": [
    "future = m.make_future_dataframe(periods=365)\n",
    "future.tail()"
   ]
  },
  {
   "cell_type": "code",
   "execution_count": 22,
   "metadata": {},
   "outputs": [
    {
     "data": {
      "text/html": [
       "<div>\n",
       "<style scoped>\n",
       "    .dataframe tbody tr th:only-of-type {\n",
       "        vertical-align: middle;\n",
       "    }\n",
       "\n",
       "    .dataframe tbody tr th {\n",
       "        vertical-align: top;\n",
       "    }\n",
       "\n",
       "    .dataframe thead th {\n",
       "        text-align: right;\n",
       "    }\n",
       "</style>\n",
       "<table border=\"1\" class=\"dataframe\">\n",
       "  <thead>\n",
       "    <tr style=\"text-align: right;\">\n",
       "      <th></th>\n",
       "      <th>ds</th>\n",
       "      <th>trend</th>\n",
       "      <th>yhat_lower</th>\n",
       "      <th>yhat_upper</th>\n",
       "      <th>trend_lower</th>\n",
       "      <th>trend_upper</th>\n",
       "      <th>additive_terms</th>\n",
       "      <th>additive_terms_lower</th>\n",
       "      <th>additive_terms_upper</th>\n",
       "      <th>weekly</th>\n",
       "      <th>weekly_lower</th>\n",
       "      <th>weekly_upper</th>\n",
       "      <th>yearly</th>\n",
       "      <th>yearly_lower</th>\n",
       "      <th>yearly_upper</th>\n",
       "      <th>multiplicative_terms</th>\n",
       "      <th>multiplicative_terms_lower</th>\n",
       "      <th>multiplicative_terms_upper</th>\n",
       "      <th>yhat</th>\n",
       "    </tr>\n",
       "  </thead>\n",
       "  <tbody>\n",
       "    <tr>\n",
       "      <th>5644</th>\n",
       "      <td>2020-08-23</td>\n",
       "      <td>318.068059</td>\n",
       "      <td>300.061722</td>\n",
       "      <td>332.114561</td>\n",
       "      <td>304.645376</td>\n",
       "      <td>332.968106</td>\n",
       "      <td>-2.050656</td>\n",
       "      <td>-2.050656</td>\n",
       "      <td>-2.050656</td>\n",
       "      <td>-1.937689</td>\n",
       "      <td>-1.937689</td>\n",
       "      <td>-1.937689</td>\n",
       "      <td>-0.112966</td>\n",
       "      <td>-0.112966</td>\n",
       "      <td>-0.112966</td>\n",
       "      <td>0.0</td>\n",
       "      <td>0.0</td>\n",
       "      <td>0.0</td>\n",
       "      <td>316.017404</td>\n",
       "    </tr>\n",
       "    <tr>\n",
       "      <th>5645</th>\n",
       "      <td>2020-08-24</td>\n",
       "      <td>318.133401</td>\n",
       "      <td>301.805492</td>\n",
       "      <td>334.965896</td>\n",
       "      <td>304.543935</td>\n",
       "      <td>333.118324</td>\n",
       "      <td>0.616160</td>\n",
       "      <td>0.616160</td>\n",
       "      <td>0.616160</td>\n",
       "      <td>0.712767</td>\n",
       "      <td>0.712767</td>\n",
       "      <td>0.712767</td>\n",
       "      <td>-0.096607</td>\n",
       "      <td>-0.096607</td>\n",
       "      <td>-0.096607</td>\n",
       "      <td>0.0</td>\n",
       "      <td>0.0</td>\n",
       "      <td>0.0</td>\n",
       "      <td>318.749560</td>\n",
       "    </tr>\n",
       "    <tr>\n",
       "      <th>5646</th>\n",
       "      <td>2020-08-25</td>\n",
       "      <td>318.198742</td>\n",
       "      <td>301.907550</td>\n",
       "      <td>335.671937</td>\n",
       "      <td>304.442494</td>\n",
       "      <td>333.282975</td>\n",
       "      <td>0.739341</td>\n",
       "      <td>0.739341</td>\n",
       "      <td>0.739341</td>\n",
       "      <td>0.818972</td>\n",
       "      <td>0.818972</td>\n",
       "      <td>0.818972</td>\n",
       "      <td>-0.079631</td>\n",
       "      <td>-0.079631</td>\n",
       "      <td>-0.079631</td>\n",
       "      <td>0.0</td>\n",
       "      <td>0.0</td>\n",
       "      <td>0.0</td>\n",
       "      <td>318.938083</td>\n",
       "    </tr>\n",
       "    <tr>\n",
       "      <th>5647</th>\n",
       "      <td>2020-08-26</td>\n",
       "      <td>318.264083</td>\n",
       "      <td>303.604392</td>\n",
       "      <td>336.315838</td>\n",
       "      <td>304.341053</td>\n",
       "      <td>333.442937</td>\n",
       "      <td>0.723399</td>\n",
       "      <td>0.723399</td>\n",
       "      <td>0.723399</td>\n",
       "      <td>0.785962</td>\n",
       "      <td>0.785962</td>\n",
       "      <td>0.785962</td>\n",
       "      <td>-0.062563</td>\n",
       "      <td>-0.062563</td>\n",
       "      <td>-0.062563</td>\n",
       "      <td>0.0</td>\n",
       "      <td>0.0</td>\n",
       "      <td>0.0</td>\n",
       "      <td>318.987482</td>\n",
       "    </tr>\n",
       "    <tr>\n",
       "      <th>5648</th>\n",
       "      <td>2020-08-27</td>\n",
       "      <td>318.329425</td>\n",
       "      <td>303.114753</td>\n",
       "      <td>336.224280</td>\n",
       "      <td>304.239613</td>\n",
       "      <td>333.601632</td>\n",
       "      <td>0.784945</td>\n",
       "      <td>0.784945</td>\n",
       "      <td>0.784945</td>\n",
       "      <td>0.830813</td>\n",
       "      <td>0.830813</td>\n",
       "      <td>0.830813</td>\n",
       "      <td>-0.045867</td>\n",
       "      <td>-0.045867</td>\n",
       "      <td>-0.045867</td>\n",
       "      <td>0.0</td>\n",
       "      <td>0.0</td>\n",
       "      <td>0.0</td>\n",
       "      <td>319.114370</td>\n",
       "    </tr>\n",
       "  </tbody>\n",
       "</table>\n",
       "</div>"
      ],
      "text/plain": [
       "             ds       trend  yhat_lower  yhat_upper  trend_lower  trend_upper  \\\n",
       "5644 2020-08-23  318.068059  300.061722  332.114561   304.645376   332.968106   \n",
       "5645 2020-08-24  318.133401  301.805492  334.965896   304.543935   333.118324   \n",
       "5646 2020-08-25  318.198742  301.907550  335.671937   304.442494   333.282975   \n",
       "5647 2020-08-26  318.264083  303.604392  336.315838   304.341053   333.442937   \n",
       "5648 2020-08-27  318.329425  303.114753  336.224280   304.239613   333.601632   \n",
       "\n",
       "      additive_terms  additive_terms_lower  additive_terms_upper    weekly  \\\n",
       "5644       -2.050656             -2.050656             -2.050656 -1.937689   \n",
       "5645        0.616160              0.616160              0.616160  0.712767   \n",
       "5646        0.739341              0.739341              0.739341  0.818972   \n",
       "5647        0.723399              0.723399              0.723399  0.785962   \n",
       "5648        0.784945              0.784945              0.784945  0.830813   \n",
       "\n",
       "      weekly_lower  weekly_upper    yearly  yearly_lower  yearly_upper  \\\n",
       "5644     -1.937689     -1.937689 -0.112966     -0.112966     -0.112966   \n",
       "5645      0.712767      0.712767 -0.096607     -0.096607     -0.096607   \n",
       "5646      0.818972      0.818972 -0.079631     -0.079631     -0.079631   \n",
       "5647      0.785962      0.785962 -0.062563     -0.062563     -0.062563   \n",
       "5648      0.830813      0.830813 -0.045867     -0.045867     -0.045867   \n",
       "\n",
       "      multiplicative_terms  multiplicative_terms_lower  \\\n",
       "5644                   0.0                         0.0   \n",
       "5645                   0.0                         0.0   \n",
       "5646                   0.0                         0.0   \n",
       "5647                   0.0                         0.0   \n",
       "5648                   0.0                         0.0   \n",
       "\n",
       "      multiplicative_terms_upper        yhat  \n",
       "5644                         0.0  316.017404  \n",
       "5645                         0.0  318.749560  \n",
       "5646                         0.0  318.938083  \n",
       "5647                         0.0  318.987482  \n",
       "5648                         0.0  319.114370  "
      ]
     },
     "execution_count": 22,
     "metadata": {},
     "output_type": "execute_result"
    }
   ],
   "source": [
    "forecast = m.predict(future)\n",
    "\n",
    "forecast.tail()"
   ]
  },
  {
   "cell_type": "code",
   "execution_count": 23,
   "metadata": {
    "scrolled": true
   },
   "outputs": [
    {
     "data": {
      "image/png": "[encoded data removed]",
      "text/plain": [
       "<Figure size 720x432 with 1 Axes>"
      ]
     },
     "metadata": {},
     "output_type": "display_data"
    }
   ],
   "source": [
    "m.plot(forecast);"
   ]
  },
  {
   "cell_type": "code",
   "execution_count": 24,
   "metadata": {
    "scrolled": false
   },
   "outputs": [
    {
     "data": {
      "image/png": "[encoded data removed]",
      "text/plain": [
       "<Figure size 648x648 with 3 Axes>"
      ]
     },
     "metadata": {},
     "output_type": "display_data"
    }
   ],
   "source": [
    "m.plot_components(forecast);"
   ]
  },
  {
   "cell_type": "code",
   "execution_count": 25,
   "metadata": {},
   "outputs": [
    {
     "data": {
      "text/html": [
       "<div>\n",
       "<style scoped>\n",
       "    .dataframe tbody tr th:only-of-type {\n",
       "        vertical-align: middle;\n",
       "    }\n",
       "\n",
       "    .dataframe tbody tr th {\n",
       "        vertical-align: top;\n",
       "    }\n",
       "\n",
       "    .dataframe thead th {\n",
       "        text-align: right;\n",
       "    }\n",
       "</style>\n",
       "<table border=\"1\" class=\"dataframe\">\n",
       "  <thead>\n",
       "    <tr style=\"text-align: right;\">\n",
       "      <th></th>\n",
       "      <th>y</th>\n",
       "    </tr>\n",
       "  </thead>\n",
       "  <tbody>\n",
       "    <tr>\n",
       "      <th>count</th>\n",
       "      <td>5284.000000</td>\n",
       "    </tr>\n",
       "    <tr>\n",
       "      <th>mean</th>\n",
       "      <td>153.249648</td>\n",
       "    </tr>\n",
       "    <tr>\n",
       "      <th>std</th>\n",
       "      <td>54.246193</td>\n",
       "    </tr>\n",
       "    <tr>\n",
       "      <th>min</th>\n",
       "      <td>68.110001</td>\n",
       "    </tr>\n",
       "    <tr>\n",
       "      <th>25%</th>\n",
       "      <td>115.570000</td>\n",
       "    </tr>\n",
       "    <tr>\n",
       "      <th>50%</th>\n",
       "      <td>134.051247</td>\n",
       "    </tr>\n",
       "    <tr>\n",
       "      <th>75%</th>\n",
       "      <td>188.165001</td>\n",
       "    </tr>\n",
       "    <tr>\n",
       "      <th>max</th>\n",
       "      <td>302.010010</td>\n",
       "    </tr>\n",
       "  </tbody>\n",
       "</table>\n",
       "</div>"
      ],
      "text/plain": [
       "                 y\n",
       "count  5284.000000\n",
       "mean    153.249648\n",
       "std      54.246193\n",
       "min      68.110001\n",
       "25%     115.570000\n",
       "50%     134.051247\n",
       "75%     188.165001\n",
       "max     302.010010"
      ]
     },
     "execution_count": 25,
     "metadata": {},
     "output_type": "execute_result"
    }
   ],
   "source": [
    "df.describe()"
   ]
  },
  {
   "cell_type": "code",
   "execution_count": 26,
   "metadata": {},
   "outputs": [
    {
     "data": {
      "text/plain": [
       "(5284, 2)"
      ]
     },
     "execution_count": 26,
     "metadata": {},
     "output_type": "execute_result"
    }
   ],
   "source": [
    "df.shape"
   ]
  },
  {
   "cell_type": "code",
   "execution_count": 27,
   "metadata": {},
   "outputs": [
    {
     "data": {
      "text/plain": [
       "(5649, 19)"
      ]
     },
     "execution_count": 27,
     "metadata": {},
     "output_type": "execute_result"
    }
   ],
   "source": [
    "forecast.shape"
   ]
  },
  {
   "cell_type": "code",
   "execution_count": 28,
   "metadata": {},
   "outputs": [
    {
     "data": {
      "text/html": [
       "<div>\n",
       "<style scoped>\n",
       "    .dataframe tbody tr th:only-of-type {\n",
       "        vertical-align: middle;\n",
       "    }\n",
       "\n",
       "    .dataframe tbody tr th {\n",
       "        vertical-align: top;\n",
       "    }\n",
       "\n",
       "    .dataframe thead th {\n",
       "        text-align: right;\n",
       "    }\n",
       "</style>\n",
       "<table border=\"1\" class=\"dataframe\">\n",
       "  <thead>\n",
       "    <tr style=\"text-align: right;\">\n",
       "      <th></th>\n",
       "      <th>trend</th>\n",
       "      <th>yhat_lower</th>\n",
       "      <th>yhat_upper</th>\n",
       "      <th>trend_lower</th>\n",
       "      <th>trend_upper</th>\n",
       "      <th>additive_terms</th>\n",
       "      <th>additive_terms_lower</th>\n",
       "      <th>additive_terms_upper</th>\n",
       "      <th>weekly</th>\n",
       "      <th>weekly_lower</th>\n",
       "      <th>weekly_upper</th>\n",
       "      <th>yearly</th>\n",
       "      <th>yearly_lower</th>\n",
       "      <th>yearly_upper</th>\n",
       "      <th>multiplicative_terms</th>\n",
       "      <th>multiplicative_terms_lower</th>\n",
       "      <th>multiplicative_terms_upper</th>\n",
       "      <th>yhat</th>\n",
       "    </tr>\n",
       "  </thead>\n",
       "  <tbody>\n",
       "    <tr>\n",
       "      <th>count</th>\n",
       "      <td>5649.000000</td>\n",
       "      <td>5649.000000</td>\n",
       "      <td>5649.000000</td>\n",
       "      <td>5649.000000</td>\n",
       "      <td>5649.000000</td>\n",
       "      <td>5649.000000</td>\n",
       "      <td>5649.000000</td>\n",
       "      <td>5649.000000</td>\n",
       "      <td>5649.000000</td>\n",
       "      <td>5649.000000</td>\n",
       "      <td>5649.000000</td>\n",
       "      <td>5649.000000</td>\n",
       "      <td>5649.000000</td>\n",
       "      <td>5649.000000</td>\n",
       "      <td>5649.0</td>\n",
       "      <td>5649.0</td>\n",
       "      <td>5649.0</td>\n",
       "      <td>5649.000000</td>\n",
       "    </tr>\n",
       "    <tr>\n",
       "      <th>mean</th>\n",
       "      <td>162.420506</td>\n",
       "      <td>154.239562</td>\n",
       "      <td>172.063445</td>\n",
       "      <td>162.124828</td>\n",
       "      <td>162.738064</td>\n",
       "      <td>0.726933</td>\n",
       "      <td>0.726933</td>\n",
       "      <td>0.726933</td>\n",
       "      <td>0.726151</td>\n",
       "      <td>0.726151</td>\n",
       "      <td>0.726151</td>\n",
       "      <td>0.000782</td>\n",
       "      <td>0.000782</td>\n",
       "      <td>0.000782</td>\n",
       "      <td>0.0</td>\n",
       "      <td>0.0</td>\n",
       "      <td>0.0</td>\n",
       "      <td>163.147439</td>\n",
       "    </tr>\n",
       "    <tr>\n",
       "      <th>std</th>\n",
       "      <td>64.244792</td>\n",
       "      <td>63.846787</td>\n",
       "      <td>64.557358</td>\n",
       "      <td>63.568553</td>\n",
       "      <td>65.006435</td>\n",
       "      <td>1.459437</td>\n",
       "      <td>1.459437</td>\n",
       "      <td>1.459437</td>\n",
       "      <td>0.367851</td>\n",
       "      <td>0.367851</td>\n",
       "      <td>0.367851</td>\n",
       "      <td>1.411989</td>\n",
       "      <td>1.411989</td>\n",
       "      <td>1.411989</td>\n",
       "      <td>0.0</td>\n",
       "      <td>0.0</td>\n",
       "      <td>0.0</td>\n",
       "      <td>64.190019</td>\n",
       "    </tr>\n",
       "    <tr>\n",
       "      <th>min</th>\n",
       "      <td>84.922420</td>\n",
       "      <td>78.670021</td>\n",
       "      <td>96.394134</td>\n",
       "      <td>84.922420</td>\n",
       "      <td>84.922420</td>\n",
       "      <td>-5.268082</td>\n",
       "      <td>-5.268082</td>\n",
       "      <td>-5.268082</td>\n",
       "      <td>-1.937689</td>\n",
       "      <td>-1.937689</td>\n",
       "      <td>-1.937689</td>\n",
       "      <td>-3.330392</td>\n",
       "      <td>-3.330392</td>\n",
       "      <td>-3.330392</td>\n",
       "      <td>0.0</td>\n",
       "      <td>0.0</td>\n",
       "      <td>0.0</td>\n",
       "      <td>87.865336</td>\n",
       "    </tr>\n",
       "    <tr>\n",
       "      <th>25%</th>\n",
       "      <td>116.251894</td>\n",
       "      <td>108.234714</td>\n",
       "      <td>125.753286</td>\n",
       "      <td>116.251894</td>\n",
       "      <td>116.251894</td>\n",
       "      <td>-0.149015</td>\n",
       "      <td>-0.149015</td>\n",
       "      <td>-0.149015</td>\n",
       "      <td>0.726865</td>\n",
       "      <td>0.726865</td>\n",
       "      <td>0.726865</td>\n",
       "      <td>-0.896628</td>\n",
       "      <td>-0.896628</td>\n",
       "      <td>-0.896628</td>\n",
       "      <td>0.0</td>\n",
       "      <td>0.0</td>\n",
       "      <td>0.0</td>\n",
       "      <td>116.952718</td>\n",
       "    </tr>\n",
       "    <tr>\n",
       "      <th>50%</th>\n",
       "      <td>136.108216</td>\n",
       "      <td>128.009370</td>\n",
       "      <td>145.524386</td>\n",
       "      <td>136.108216</td>\n",
       "      <td>136.108216</td>\n",
       "      <td>0.561095</td>\n",
       "      <td>0.561095</td>\n",
       "      <td>0.561095</td>\n",
       "      <td>0.785962</td>\n",
       "      <td>0.785962</td>\n",
       "      <td>0.785962</td>\n",
       "      <td>-0.179633</td>\n",
       "      <td>-0.179633</td>\n",
       "      <td>-0.179633</td>\n",
       "      <td>0.0</td>\n",
       "      <td>0.0</td>\n",
       "      <td>0.0</td>\n",
       "      <td>136.687931</td>\n",
       "    </tr>\n",
       "    <tr>\n",
       "      <th>75%</th>\n",
       "      <td>200.551587</td>\n",
       "      <td>191.249269</td>\n",
       "      <td>208.834018</td>\n",
       "      <td>200.551587</td>\n",
       "      <td>200.551587</td>\n",
       "      <td>1.853553</td>\n",
       "      <td>1.853553</td>\n",
       "      <td>1.853553</td>\n",
       "      <td>0.818972</td>\n",
       "      <td>0.818972</td>\n",
       "      <td>0.818972</td>\n",
       "      <td>1.122265</td>\n",
       "      <td>1.122265</td>\n",
       "      <td>1.122265</td>\n",
       "      <td>0.0</td>\n",
       "      <td>0.0</td>\n",
       "      <td>0.0</td>\n",
       "      <td>200.105513</td>\n",
       "    </tr>\n",
       "    <tr>\n",
       "      <th>max</th>\n",
       "      <td>318.329425</td>\n",
       "      <td>304.777226</td>\n",
       "      <td>336.315838</td>\n",
       "      <td>304.885289</td>\n",
       "      <td>333.601632</td>\n",
       "      <td>3.457055</td>\n",
       "      <td>3.457055</td>\n",
       "      <td>3.457055</td>\n",
       "      <td>0.830813</td>\n",
       "      <td>0.830813</td>\n",
       "      <td>0.830813</td>\n",
       "      <td>2.626242</td>\n",
       "      <td>2.626242</td>\n",
       "      <td>2.626242</td>\n",
       "      <td>0.0</td>\n",
       "      <td>0.0</td>\n",
       "      <td>0.0</td>\n",
       "      <td>319.114370</td>\n",
       "    </tr>\n",
       "  </tbody>\n",
       "</table>\n",
       "</div>"
      ],
      "text/plain": [
       "             trend   yhat_lower   yhat_upper  trend_lower  trend_upper  \\\n",
       "count  5649.000000  5649.000000  5649.000000  5649.000000  5649.000000   \n",
       "mean    162.420506   154.239562   172.063445   162.124828   162.738064   \n",
       "std      64.244792    63.846787    64.557358    63.568553    65.006435   \n",
       "min      84.922420    78.670021    96.394134    84.922420    84.922420   \n",
       "25%     116.251894   108.234714   125.753286   116.251894   116.251894   \n",
       "50%     136.108216   128.009370   145.524386   136.108216   136.108216   \n",
       "75%     200.551587   191.249269   208.834018   200.551587   200.551587   \n",
       "max     318.329425   304.777226   336.315838   304.885289   333.601632   \n",
       "\n",
       "       additive_terms  additive_terms_lower  additive_terms_upper  \\\n",
       "count     5649.000000           5649.000000           5649.000000   \n",
       "mean         0.726933              0.726933              0.726933   \n",
       "std          1.459437              1.459437              1.459437   \n",
       "min         -5.268082             -5.268082             -5.268082   \n",
       "25%         -0.149015             -0.149015             -0.149015   \n",
       "50%          0.561095              0.561095              0.561095   \n",
       "75%          1.853553              1.853553              1.853553   \n",
       "max          3.457055              3.457055              3.457055   \n",
       "\n",
       "            weekly  weekly_lower  weekly_upper       yearly  yearly_lower  \\\n",
       "count  5649.000000   5649.000000   5649.000000  5649.000000   5649.000000   \n",
       "mean      0.726151      0.726151      0.726151     0.000782      0.000782   \n",
       "std       0.367851      0.367851      0.367851     1.411989      1.411989   \n",
       "min      -1.937689     -1.937689     -1.937689    -3.330392     -3.330392   \n",
       "25%       0.726865      0.726865      0.726865    -0.896628     -0.896628   \n",
       "50%       0.785962      0.785962      0.785962    -0.179633     -0.179633   \n",
       "75%       0.818972      0.818972      0.818972     1.122265      1.122265   \n",
       "max       0.830813      0.830813      0.830813     2.626242      2.626242   \n",
       "\n",
       "       yearly_upper  multiplicative_terms  multiplicative_terms_lower  \\\n",
       "count   5649.000000                5649.0                      5649.0   \n",
       "mean       0.000782                   0.0                         0.0   \n",
       "std        1.411989                   0.0                         0.0   \n",
       "min       -3.330392                   0.0                         0.0   \n",
       "25%       -0.896628                   0.0                         0.0   \n",
       "50%       -0.179633                   0.0                         0.0   \n",
       "75%        1.122265                   0.0                         0.0   \n",
       "max        2.626242                   0.0                         0.0   \n",
       "\n",
       "       multiplicative_terms_upper         yhat  \n",
       "count                      5649.0  5649.000000  \n",
       "mean                          0.0   163.147439  \n",
       "std                           0.0    64.190019  \n",
       "min                           0.0    87.865336  \n",
       "25%                           0.0   116.952718  \n",
       "50%                           0.0   136.687931  \n",
       "75%                           0.0   200.105513  \n",
       "max                           0.0   319.114370  "
      ]
     },
     "execution_count": 28,
     "metadata": {},
     "output_type": "execute_result"
    }
   ],
   "source": [
    "forecast.describe()"
   ]
  },
  {
   "cell_type": "code",
   "execution_count": null,
   "metadata": {},
   "outputs": [],
   "source": []
  }
 ],
 "metadata": {
  "kernelspec": {
   "display_name": "Python 3",
   "language": "python",
   "name": "python3"
  },
  "language_info": {
   "codemirror_mode": {
    "name": "ipython",
    "version": 3
   },
   "file_extension": ".py",
   "mimetype": "text/x-python",
   "name": "python",
   "nbconvert_exporter": "python",
   "pygments_lexer": "ipython3",
   "version": "3.7.3"
  }
 },
 "nbformat": 4,
 "nbformat_minor": 2
}
