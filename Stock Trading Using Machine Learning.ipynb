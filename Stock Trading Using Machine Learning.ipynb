{
 "cells": [
  {
   "cell_type": "code",
   "execution_count": 112,
   "metadata": {},
   "outputs": [],
   "source": [
    "from pandas_datareader import data as pdr\n",
    "import yahoo_finance as yf\n",
    "import numpy as np\n",
    "import pandas as pd\n",
    "from sklearn import mixture as mix\n",
    "import seaborn as sns\n",
    "import matplotlib.pyplot as plt"
   ]
  },
  {
   "cell_type": "code",
   "execution_count": 113,
   "metadata": {},
   "outputs": [],
   "source": [
    "df = pdr.get_data_yahoo('SPY', '06-04-1993', '05-31-2019')\n",
    "df = df[['Open','High','Low','Close']]\n",
    "df['Open'] = df['Open'].shift(1)\n",
    "df['High'] = df['High'].shift(1)\n",
    "df['Low'] = df['Low'].shift(1)\n",
    "df['Close'] = df['Close'].shift(1)\n",
    "df = df[['Open','High','Low','Close']]\n",
    "df = df.dropna()"
   ]
  },
  {
   "cell_type": "code",
   "execution_count": 114,
   "metadata": {},
   "outputs": [],
   "source": [
    "unsup = mix.GaussianMixture(n_components = 4,\n",
    "                           covariance_type =\"spherical\",\n",
    "                           n_init = 100,\n",
    "                           random_state = 42)"
   ]
  },
  {
   "cell_type": "code",
   "execution_count": 115,
   "metadata": {},
   "outputs": [],
   "source": [
    "unsup.fit(np.reshape(df,(-1,df.shape[1])))\n",
    "regime = unsup.predict(np.reshape(df,(-1,df.shape[1])))"
   ]
  },
  {
   "cell_type": "code",
   "execution_count": 116,
   "metadata": {},
   "outputs": [],
   "source": [
    "df['Return'] = np.log(df['Close']/df['Close'].shift(1))"
   ]
  },
  {
   "cell_type": "code",
   "execution_count": 117,
   "metadata": {},
   "outputs": [],
   "source": [
    "Regimes = pd.DataFrame(regime,columns=['Regime'],index=df.index)\\\n",
    ".join(df,how='inner')\\\n",
    ".assign(maarket_cu_return=df.Return.cumsum())\\\n",
    ".reset_index(drop=False)\\\n",
    ".rename(columns={'index':'Date'})"
   ]
  },
  {
   "cell_type": "code",
   "execution_count": 118,
   "metadata": {},
   "outputs": [
    {
     "name": "stderr",
     "output_type": "stream",
     "text": [
      "C:\\Users\\Karim Elbahloul\\Anaconda3\\lib\\site-packages\\seaborn\\axisgrid.py:230: UserWarning: The `size` paramter has been renamed to `height`; please update your code.\n",
      "  warnings.warn(msg, UserWarning)\n"
     ]
    },
    {
     "data": {
      "image/png": "[encoded data removed]",
      "text/plain": [
       "<Figure size 766x360 with 1 Axes>"
      ]
     },
     "metadata": {
      "needs_background": "light"
     },
     "output_type": "display_data"
    }
   ],
   "source": [
    "order=[0,1,2,3]\n",
    "fig = sns.FacetGrid(data=Regimes,hue='Regime',hue_order=order,aspect=2,size=5)\n",
    "fig.map(plt.scatter,'Date','Close',s=4).add_legend()\n",
    "plt.show()"
   ]
  },
  {
   "cell_type": "code",
   "execution_count": 119,
   "metadata": {},
   "outputs": [
    {
     "name": "stdout",
     "output_type": "stream",
     "text": [
      "Mean for regime 0:  222.72719857130062\n",
      "Co-Variancefor regime 0:  1337.8492667989428\n",
      "Mean for regime 1:  136.6809246633303\n",
      "Co-Variancefor regime 1:  78.5395460408796\n",
      "Mean for regime 2:  106.00493840194393\n",
      "Co-Variancefor regime 2:  132.0691479309486\n",
      "Mean for regime 3:  56.91504104255719\n",
      "Co-Variancefor regime 3:  132.75312790639157\n"
     ]
    }
   ],
   "source": [
    "for i in order:\n",
    "    print('Mean for regime %i: '%i,unsup.means_[i][0])\n",
    "    print('Co-Variancefor regime %i: '%i,(unsup.covariances_[i]))"
   ]
  },
  {
   "cell_type": "code",
   "execution_count": null,
   "metadata": {},
   "outputs": [],
   "source": []
  }
 ],
 "metadata": {
  "kernelspec": {
   "display_name": "Python 3",
   "language": "python",
   "name": "python3"
  },
  "language_info": {
   "codemirror_mode": {
    "name": "ipython",
    "version": 3
   },
   "file_extension": ".py",
   "mimetype": "text/x-python",
   "name": "python",
   "nbconvert_exporter": "python",
   "pygments_lexer": "ipython3",
   "version": "3.7.3"
  }
 },
 "nbformat": 4,
 "nbformat_minor": 2
}
