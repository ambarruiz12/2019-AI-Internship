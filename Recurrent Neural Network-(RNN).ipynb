{
 "cells": [
  {
   "cell_type": "code",
   "execution_count": 72,
   "metadata": {},
   "outputs": [
    {
     "data": {
      "image/png": "[encoded data removed]",
      "text/plain": [
       "<Figure size 432x288 with 1 Axes>"
      ]
     },
     "metadata": {
      "needs_background": "light"
     },
     "output_type": "display_data"
    }
   ],
   "source": [
    "import pandas\n",
    "import matplotlib.pyplot as plt\n",
    "dataset = pandas.read_csv('RNN.csv', usecols=[1], engine='python')\n",
    "plt.plot(dataset)\n",
    "plt.xlabel(\"Days\")\n",
    "plt.ylabel(\"Price\")\n",
    "plt.show()\n"
   ]
  },
  {
   "cell_type": "code",
   "execution_count": 56,
   "metadata": {},
   "outputs": [],
   "source": [
    "#Importing Libaries\n",
    "import numpy\n",
    "import matplotlib.pyplot as plt\n",
    "import pandas\n",
    "import math\n",
    "from keras.models import Sequential\n",
    "from keras.layers import Dense\n",
    "from keras.layers import LSTM\n",
    "from sklearn.preprocessing import MinMaxScaler\n",
    "from sklearn.metrics import mean_squared_error"
   ]
  },
  {
   "cell_type": "code",
   "execution_count": 57,
   "metadata": {},
   "outputs": [],
   "source": [
    "# fix random seed for reproducibility\n",
    "numpy.random.seed(7)"
   ]
  },
  {
   "cell_type": "code",
   "execution_count": 58,
   "metadata": {},
   "outputs": [],
   "source": [
    "# load the dataset\n",
    "dataframe = pandas.read_csv('RNN.csv', usecols=[1], engine='python')\n",
    "dataset = dataframe.values\n",
    "dataset = dataset.astype('float32')"
   ]
  },
  {
   "cell_type": "code",
   "execution_count": 59,
   "metadata": {},
   "outputs": [],
   "source": [
    "# normalize the dataset\n",
    "scaler = MinMaxScaler(feature_range=(0, 1))\n",
    "dataset = scaler.fit_transform(dataset)"
   ]
  },
  {
   "cell_type": "code",
   "execution_count": 60,
   "metadata": {},
   "outputs": [
    {
     "name": "stdout",
     "output_type": "stream",
     "text": [
      "3709 1827\n"
     ]
    }
   ],
   "source": [
    "# split into train and test sets\n",
    "train_size = int(len(dataset) * 0.67)\n",
    "test_size = len(dataset) - train_size\n",
    "train, test = dataset[0:train_size,:], dataset[train_size:len(dataset),:]\n",
    "print(len(train), len(test))"
   ]
  },
  {
   "cell_type": "code",
   "execution_count": 61,
   "metadata": {},
   "outputs": [],
   "source": [
    "# convert an array of values into a dataset matrix\n",
    "def create_dataset(dataset, look_back=3):\n",
    "\tdataX, dataY = [], []\n",
    "\tfor i in range(len(dataset)-look_back-1):\n",
    "\t\ta = dataset[i:(i+look_back), 0]\n",
    "\t\tdataX.append(a)\n",
    "\t\tdataY.append(dataset[i + look_back, 0])\n",
    "\treturn numpy.array(dataX), numpy.array(dataY)"
   ]
  },
  {
   "cell_type": "code",
   "execution_count": 62,
   "metadata": {},
   "outputs": [],
   "source": [
    "# reshape into X=t and Y=t+1\n",
    "look_back = 1\n",
    "trainX, trainY = create_dataset(train, look_back)\n",
    "testX, testY = create_dataset(test, look_back)"
   ]
  },
  {
   "cell_type": "code",
   "execution_count": 63,
   "metadata": {},
   "outputs": [],
   "source": [
    "# reshape input to be [samples, time steps, features]\n",
    "trainX = numpy.reshape(trainX, (trainX.shape[0], 1, trainX.shape[1]))\n",
    "testX = numpy.reshape(testX, (testX.shape[0], 1, testX.shape[1]))"
   ]
  },
  {
   "cell_type": "code",
   "execution_count": 64,
   "metadata": {},
   "outputs": [
    {
     "name": "stdout",
     "output_type": "stream",
     "text": [
      "Epoch 1/100\n",
      " - 30s - loss: 0.0020\n",
      "Epoch 2/100\n",
      " - 23s - loss: 5.7947e-05\n",
      "Epoch 3/100\n",
      " - 23s - loss: 5.7339e-05\n",
      "Epoch 4/100\n",
      " - 24s - loss: 5.5462e-05\n",
      "Epoch 5/100\n",
      " - 31s - loss: 5.4259e-05\n",
      "Epoch 6/100\n",
      " - 28s - loss: 5.3068e-05\n",
      "Epoch 7/100\n",
      " - 30s - loss: 5.3931e-05\n",
      "Epoch 8/100\n",
      " - 28s - loss: 5.2947e-05\n",
      "Epoch 9/100\n",
      " - 27s - loss: 5.2091e-05\n",
      "Epoch 10/100\n",
      " - 28s - loss: 5.2872e-05\n",
      "Epoch 11/100\n",
      " - 30s - loss: 5.1791e-05\n",
      "Epoch 12/100\n",
      " - 26s - loss: 5.3330e-05\n",
      "Epoch 13/100\n",
      " - 26s - loss: 5.2851e-05\n",
      "Epoch 14/100\n",
      " - 27s - loss: 5.2013e-05\n",
      "Epoch 15/100\n",
      " - 26s - loss: 5.2616e-05\n",
      "Epoch 16/100\n",
      " - 27s - loss: 5.2870e-05\n",
      "Epoch 17/100\n",
      " - 28s - loss: 5.2560e-05\n",
      "Epoch 18/100\n",
      " - 28s - loss: 5.2538e-05\n",
      "Epoch 19/100\n",
      " - 28s - loss: 5.1960e-05\n",
      "Epoch 20/100\n",
      " - 27s - loss: 5.3168e-05\n",
      "Epoch 21/100\n",
      " - 27s - loss: 5.2476e-05\n",
      "Epoch 22/100\n",
      " - 26s - loss: 5.1978e-05\n",
      "Epoch 23/100\n",
      " - 27s - loss: 5.2329e-05\n",
      "Epoch 24/100\n",
      " - 27s - loss: 5.1557e-05\n",
      "Epoch 25/100\n",
      " - 26s - loss: 5.0824e-05\n",
      "Epoch 26/100\n",
      " - 25s - loss: 5.2111e-05\n",
      "Epoch 27/100\n",
      " - 27s - loss: 5.3283e-05\n",
      "Epoch 28/100\n",
      " - 27s - loss: 5.2381e-05\n",
      "Epoch 29/100\n",
      " - 25s - loss: 5.2448e-05\n",
      "Epoch 30/100\n",
      " - 26s - loss: 5.1257e-05\n",
      "Epoch 31/100\n",
      " - 26s - loss: 5.2436e-05\n",
      "Epoch 32/100\n",
      " - 28s - loss: 5.2063e-05\n",
      "Epoch 33/100\n",
      " - 31s - loss: 5.2402e-05\n",
      "Epoch 34/100\n",
      " - 30s - loss: 5.2442e-05\n",
      "Epoch 35/100\n",
      " - 27s - loss: 5.2025e-05\n",
      "Epoch 36/100\n",
      " - 25s - loss: 5.1274e-05\n",
      "Epoch 37/100\n",
      " - 25s - loss: 5.3186e-05\n",
      "Epoch 38/100\n",
      " - 25s - loss: 5.2566e-05\n",
      "Epoch 39/100\n",
      " - 24s - loss: 5.1565e-05\n",
      "Epoch 40/100\n",
      " - 24s - loss: 5.2074e-05\n",
      "Epoch 41/100\n",
      " - 24s - loss: 5.1631e-05\n",
      "Epoch 42/100\n",
      " - 24s - loss: 5.2010e-05\n",
      "Epoch 43/100\n",
      " - 25s - loss: 5.1483e-05\n",
      "Epoch 44/100\n",
      " - 26s - loss: 5.1113e-05\n",
      "Epoch 45/100\n",
      " - 29s - loss: 5.2292e-05\n",
      "Epoch 46/100\n",
      " - 30s - loss: 5.1197e-05\n",
      "Epoch 47/100\n",
      " - 25s - loss: 5.2575e-05\n",
      "Epoch 48/100\n",
      " - 27s - loss: 5.2198e-05\n",
      "Epoch 49/100\n",
      " - 24s - loss: 5.0911e-05\n",
      "Epoch 50/100\n",
      " - 26s - loss: 5.1633e-05\n",
      "Epoch 51/100\n",
      " - 25s - loss: 5.1676e-05\n",
      "Epoch 52/100\n",
      " - 24s - loss: 5.1652e-05\n",
      "Epoch 53/100\n",
      " - 29s - loss: 5.1665e-05\n",
      "Epoch 54/100\n",
      " - 27s - loss: 5.1234e-05\n",
      "Epoch 55/100\n",
      " - 24s - loss: 5.2201e-05\n",
      "Epoch 56/100\n",
      " - 29s - loss: 5.2629e-05\n",
      "Epoch 57/100\n",
      " - 34s - loss: 5.1742e-05\n",
      "Epoch 58/100\n",
      " - 27s - loss: 5.1974e-05\n",
      "Epoch 59/100\n",
      " - 30s - loss: 5.1471e-05\n",
      "Epoch 60/100\n",
      " - 33s - loss: 5.2015e-05\n",
      "Epoch 61/100\n",
      " - 25s - loss: 5.2043e-05\n",
      "Epoch 62/100\n",
      " - 27s - loss: 5.1806e-05\n",
      "Epoch 63/100\n",
      " - 25s - loss: 5.1246e-05\n",
      "Epoch 64/100\n",
      " - 31s - loss: 5.1459e-05\n",
      "Epoch 65/100\n",
      " - 30s - loss: 5.0975e-05\n",
      "Epoch 66/100\n",
      " - 26s - loss: 5.1466e-05\n",
      "Epoch 67/100\n",
      " - 31s - loss: 5.2138e-05\n",
      "Epoch 68/100\n",
      " - 28s - loss: 5.1079e-05\n",
      "Epoch 69/100\n",
      " - 34s - loss: 5.2394e-05\n",
      "Epoch 70/100\n",
      " - 33s - loss: 5.2209e-05\n",
      "Epoch 71/100\n",
      " - 25s - loss: 5.2501e-05\n",
      "Epoch 72/100\n",
      " - 26s - loss: 5.1240e-05\n",
      "Epoch 73/100\n",
      " - 29s - loss: 5.1538e-05\n",
      "Epoch 74/100\n",
      " - 36s - loss: 5.1119e-05\n",
      "Epoch 75/100\n",
      " - 33s - loss: 5.2580e-05\n",
      "Epoch 76/100\n",
      " - 33s - loss: 5.1224e-05\n",
      "Epoch 77/100\n",
      " - 32s - loss: 5.1045e-05\n",
      "Epoch 78/100\n",
      " - 32s - loss: 5.2403e-05\n",
      "Epoch 79/100\n",
      " - 33s - loss: 5.2163e-05\n",
      "Epoch 80/100\n",
      " - 30s - loss: 5.1316e-05\n",
      "Epoch 81/100\n",
      " - 33s - loss: 5.1031e-05\n",
      "Epoch 82/100\n",
      " - 29s - loss: 5.1322e-05\n",
      "Epoch 83/100\n",
      " - 30s - loss: 5.0469e-05\n",
      "Epoch 84/100\n",
      " - 29s - loss: 5.1697e-05\n",
      "Epoch 85/100\n",
      " - 27s - loss: 5.1145e-05\n",
      "Epoch 86/100\n",
      " - 23s - loss: 5.0767e-05\n",
      "Epoch 87/100\n",
      " - 23s - loss: 5.1877e-05\n",
      "Epoch 88/100\n",
      " - 23s - loss: 5.1172e-05\n",
      "Epoch 89/100\n",
      " - 28s - loss: 5.1651e-05\n",
      "Epoch 90/100\n",
      " - 29s - loss: 5.0796e-05\n",
      "Epoch 91/100\n",
      " - 24s - loss: 5.1867e-05\n",
      "Epoch 92/100\n",
      " - 24s - loss: 5.1226e-05\n",
      "Epoch 93/100\n",
      " - 29s - loss: 5.0872e-05\n",
      "Epoch 94/100\n",
      " - 29s - loss: 5.1442e-05\n",
      "Epoch 95/100\n",
      " - 30s - loss: 5.1897e-05\n",
      "Epoch 96/100\n",
      " - 33s - loss: 5.1291e-05\n",
      "Epoch 97/100\n",
      " - 36s - loss: 5.1119e-05\n",
      "Epoch 98/100\n",
      " - 36s - loss: 5.0946e-05\n",
      "Epoch 99/100\n",
      " - 42s - loss: 5.0910e-05\n",
      "Epoch 100/100\n",
      " - 36s - loss: 5.2228e-05\n"
     ]
    },
    {
     "data": {
      "text/plain": [
       "<keras.callbacks.History at 0x2403cae8898>"
      ]
     },
     "execution_count": 64,
     "metadata": {},
     "output_type": "execute_result"
    }
   ],
   "source": [
    "#Create and fit the LSTM network\n",
    "model = Sequential()\n",
    "model.add(LSTM(4, input_shape=(1, look_back)))\n",
    "model.add(Dense(1))\n",
    "model.compile(loss='mean_squared_error', optimizer='adam')\n",
    "model.fit(trainX, trainY, epochs=100, batch_size=1, verbose=2)"
   ]
  },
  {
   "cell_type": "code",
   "execution_count": 65,
   "metadata": {},
   "outputs": [],
   "source": [
    "# make predictions\n",
    "trainPredict = model.predict(trainX)\n",
    "testPredict = model.predict(testX)"
   ]
  },
  {
   "cell_type": "code",
   "execution_count": 66,
   "metadata": {},
   "outputs": [],
   "source": [
    "# invert predictions\n",
    "trainPredict = scaler.inverse_transform(trainPredict)\n",
    "trainY = scaler.inverse_transform([trainY])\n",
    "testPredict = scaler.inverse_transform(testPredict)\n",
    "testY = scaler.inverse_transform([testY])"
   ]
  },
  {
   "cell_type": "code",
   "execution_count": 67,
   "metadata": {},
   "outputs": [
    {
     "name": "stdout",
     "output_type": "stream",
     "text": [
      "Train Score: 1.54 RMSE\n",
      "Test Score: 19.35 RMSE\n"
     ]
    }
   ],
   "source": [
    "# calculate root mean squared error\n",
    "trainScore = math.sqrt(mean_squared_error(trainY[0], trainPredict[:,0]))\n",
    "print('Train Score: %.2f RMSE' % (trainScore))\n",
    "testScore = math.sqrt(mean_squared_error(testY[0], testPredict[:,0]))\n",
    "print('Test Score: %.2f RMSE' % (testScore))"
   ]
  },
  {
   "cell_type": "code",
   "execution_count": 68,
   "metadata": {},
   "outputs": [],
   "source": [
    "# shift train predictions for plotting\n",
    "trainPredictPlot = numpy.empty_like(dataset)\n",
    "trainPredictPlot[:, :] = numpy.nan\n",
    "trainPredictPlot[look_back:len(trainPredict)+look_back, :] = trainPredict"
   ]
  },
  {
   "cell_type": "code",
   "execution_count": 69,
   "metadata": {},
   "outputs": [],
   "source": [
    "# shift test predictions for plotting\n",
    "testPredictPlot = numpy.empty_like(dataset)\n",
    "testPredictPlot[:, :] = numpy.nan\n",
    "testPredictPlot[len(trainPredict)+(look_back*2)+1:len(dataset)-1, :] = testPredict"
   ]
  },
  {
   "cell_type": "code",
   "execution_count": 70,
   "metadata": {},
   "outputs": [
    {
     "data": {
      "image/png": "[encoded data removed]",
      "text/plain": [
       "<Figure size 432x288 with 1 Axes>"
      ]
     },
     "metadata": {
      "needs_background": "light"
     },
     "output_type": "display_data"
    }
   ],
   "source": [
    "# plot baseline and predictions\n",
    "plt.plot(scaler.inverse_transform(dataset))\n",
    "plt.plot(trainPredictPlot)\n",
    "plt.plot(testPredictPlot)\n",
    "plt.show()"
   ]
  },
  {
   "cell_type": "code",
   "execution_count": null,
   "metadata": {},
   "outputs": [],
   "source": []
  }
 ],
 "metadata": {
  "kernelspec": {
   "display_name": "Python 3",
   "language": "python",
   "name": "python3"
  },
  "language_info": {
   "codemirror_mode": {
    "name": "ipython",
    "version": 3
   },
   "file_extension": ".py",
   "mimetype": "text/x-python",
   "name": "python",
   "nbconvert_exporter": "python",
   "pygments_lexer": "ipython3",
   "version": "3.7.3"
  }
 },
 "nbformat": 4,
 "nbformat_minor": 2
}
